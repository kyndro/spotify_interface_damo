{
 "cells": [
  {
   "cell_type": "code",
   "execution_count": 9,
   "id": "fb7ebd91-9ac0-4fe8-9168-faca8ac440b6",
   "metadata": {},
   "outputs": [],
   "source": [
    "import urllib.request\n",
    "import json\n"
   ]
  },
  {
   "cell_type": "code",
   "execution_count": 10,
   "id": "c836fd88-e173-439b-b0a7-91b286c2bd3d",
   "metadata": {},
   "outputs": [],
   "source": [
    "# copy and paste the url into your browser to see what data you are getting back\n",
    "request = urllib.request.Request(\"http://api.open-notify.org/iss-now.json\")\n",
    "response = urllib.request.urlopen(request)"
   ]
  },
  {
   "cell_type": "code",
   "execution_count": 11,
   "id": "b93460f6-4b61-47c3-89ad-71a9e27b3218",
   "metadata": {},
   "outputs": [
    {
     "name": "stdout",
     "output_type": "stream",
     "text": [
      "<http.client.HTTPResponse object at 0x000002C5EFC55C90>\n"
     ]
    }
   ],
   "source": [
    "print(response)"
   ]
  },
  {
   "cell_type": "code",
   "execution_count": 12,
   "id": "047aef87-4525-4f55-9c11-05fb49d971c2",
   "metadata": {},
   "outputs": [],
   "source": [
    "#convert the HTTPResponse\n",
    "#and turing it into the JSON Object\n",
    "iss_obj = json.loads(response.read())"
   ]
  },
  {
   "cell_type": "code",
   "execution_count": 14,
   "id": "49f8f9c7-c533-4a08-a814-d45ad550cb3a",
   "metadata": {},
   "outputs": [
    {
     "data": {
      "text/plain": [
       "'11.7469'"
      ]
     },
     "execution_count": 14,
     "metadata": {},
     "output_type": "execute_result"
    }
   ],
   "source": [
    "iss_obj['iss_position']['latitude']"
   ]
  },
  {
   "cell_type": "code",
   "execution_count": null,
   "id": "d072feb8-99e5-4372-994c-f034e72cf8e1",
   "metadata": {},
   "outputs": [],
   "source": []
  }
 ],
 "metadata": {
  "kernelspec": {
   "display_name": "Python 3 (ipykernel)",
   "language": "python",
   "name": "python3"
  },
  "language_info": {
   "codemirror_mode": {
    "name": "ipython",
    "version": 3
   },
   "file_extension": ".py",
   "mimetype": "text/x-python",
   "name": "python",
   "nbconvert_exporter": "python",
   "pygments_lexer": "ipython3",
   "version": "3.12.0"
  }
 },
 "nbformat": 4,
 "nbformat_minor": 5
}
