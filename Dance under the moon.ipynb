{
 "cells": [
  {
   "cell_type": "code",
   "execution_count": null,
   "id": "966c7e83-7d8f-4584-b107-170d47ae0537",
   "metadata": {},
   "outputs": [],
   "source": [
    "import spotipy\n",
    "import urllib.request\n",
    "import random\n",
    "import requests\n",
    "import nltk\n",
    "import webbrowser\n",
    "import json\n",
    "from nltk import pos_tag\n",
    "import spotipy.util as util\n",
    "import http.client"
   ]
  },
  {
   "cell_type": "code",
   "execution_count": null,
   "id": "ba6ab618-ac96-4893-afd6-2627f21006c3",
   "metadata": {},
   "outputs": [],
   "source": [
    "from requests import post"
   ]
  },
  {
   "cell_type": "code",
   "execution_count": null,
   "id": "7370ca52-d629-4272-8901-221044768dd9",
   "metadata": {},
   "outputs": [],
   "source": [
    "from spotipy.oauth2 import SpotifyClientCredentials\n",
    "import json"
   ]
  },
  {
   "cell_type": "code",
   "execution_count": null,
   "id": "5c055bc4-7053-412e-b6d3-b3905eaa9244",
   "metadata": {},
   "outputs": [],
   "source": [
    "# open file with keys and set the path to your credentials JSON file\n",
    "# r= read \n",
    "credentials = \"example_spotify.json\"\n",
    "with open(credentials, \"r\") as keys:\n",
    "    api_tokens = json.load(keys)"
   ]
  },
  {
   "cell_type": "code",
   "execution_count": null,
   "id": "28e6a86f-b89e-4b72-812a-8b169522c8f5",
   "metadata": {},
   "outputs": [],
   "source": [
    "api_tokens"
   ]
  },
  {
   "cell_type": "code",
   "execution_count": null,
   "id": "e217de83-19c1-4959-b3d7-135321049185",
   "metadata": {},
   "outputs": [],
   "source": [
    "# read the keys and assign each to a variable\n",
    "client_id = api_tokens[\"client_id\"]\n",
    "client_secret = api_tokens[\"client_secret\"]"
   ]
  },
  {
   "cell_type": "code",
   "execution_count": null,
   "id": "3222d8b2-9a64-4962-be0f-b44349cd75b5",
   "metadata": {},
   "outputs": [],
   "source": [
    "print(client_id, client_secret)"
   ]
  },
  {
   "cell_type": "code",
   "execution_count": null,
   "id": "62a48530-3bb9-4423-a264-5f877953eefb",
   "metadata": {},
   "outputs": [],
   "source": [
    "#client_credentials_manager= object that hold on client id\n",
    "client_credentials_manager = SpotifyClientCredentials(client_id, client_secret)"
   ]
  },
  {
   "cell_type": "code",
   "execution_count": null,
   "id": "37c324f3-f634-4a5f-8364-a55a7c63a9f0",
   "metadata": {},
   "outputs": [],
   "source": [
    "#spotify api have 4 items\n",
    "client_id = api_tokens[\"client_id\"]\n",
    "client_secret = api_tokens[\"client_secret\"]\n",
    "redirectURI = api_tokens[\"redirect\"]\n",
    "username = api_tokens[\"username\"]"
   ]
  },
  {
   "cell_type": "code",
   "execution_count": null,
   "id": "6093ca6e-5d51-4092-91c2-8e84c1830143",
   "metadata": {},
   "outputs": [],
   "source": [
    "scope = 'user-read-private user-read-playback-state user-modify-playback-state playlist-modify-public'\n",
    "token = util.prompt_for_user_token(username, scope, client_id=client_id,\n",
    "                           client_secret=client_secret,\n",
    "                           redirect_uri=redirectURI)"
   ]
  },
  {
   "cell_type": "code",
   "execution_count": null,
   "id": "21613f19-74d1-47b1-95da-362d69ae011c",
   "metadata": {},
   "outputs": [],
   "source": [
    "#create spotify object\n",
    "#setting the authorization with the final key, ie the token\n",
    "sp = spotipy.Spotify(auth=token)"
   ]
  },
  {
   "cell_type": "code",
   "execution_count": null,
   "id": "16ad0d0d-907c-4bd8-a3b4-8c5ddf1e2aee",
   "metadata": {},
   "outputs": [],
   "source": [
    "devices= sp.devices()\n",
    "print(devices['devices'])\n",
    "#deviceID=devices['devices'][0]['id']\n",
    "#this is tie to the spotify account"
   ]
  },
  {
   "cell_type": "code",
   "execution_count": null,
   "id": "a82ccae2-8a76-4dee-b364-6ad7836a6d57",
   "metadata": {},
   "outputs": [],
   "source": [
    "#moonphase\n",
    "import requests\n",
    "\n",
    "def get_moon_phase(year, month, day):\n",
    "    url = f'https://aa.usno.navy.mil/api/moon/phases/date?date={year:04d}-{month:02d}-{day:02d}'\n",
    "   # print(url)\n",
    "    # Make the request\n",
    "    response = requests.get(url)\n",
    "    \n",
    "    # Parse the JSON response\n",
    "    data = response.json()\n",
    "    \n",
    "    # Extract moon phase information from the response\n",
    "    moon_phase = data['phasedata'][0]['phase']\n",
    "\n",
    "    return moon_phase"
   ]
  },
  {
   "cell_type": "code",
   "execution_count": null,
   "id": "c1a56032-30bb-448b-875e-eeb62a1e8518",
   "metadata": {},
   "outputs": [],
   "source": [
    "#moonphase of the Year Month Day you going to dance\n",
    "year = 1997\n",
    "month = 7\n",
    "day = 24\n",
    "\n",
    "moon_phase = get_moon_phase(year, month, day)\n",
    "#if moon_phase=='Last Quarter':\n",
    "    #energy=0.25\n",
    "#elif moon_phase=='Full':\n",
    "    #energy=1\n",
    "#else:\n",
    "    #energy=0\n",
    "#print(f'Moon phase on {year}-{month:02d}-{day:02d}: {moon_phase}')\n",
    "print(moon_phase)"
   ]
  },
  {
   "cell_type": "code",
   "execution_count": null,
   "id": "b626975a-4f6a-40d2-95a8-7e492db12132",
   "metadata": {},
   "outputs": [],
   "source": [
    "moon_phase = get_moon_phase(year, month, day)\n",
    "\n",
    "if moon_phase == 'Last Quarter':\n",
    "    genre = [\"electropop\", \"modern rock\",\"gothic country\"]\n",
    "   \n",
    "elif moon_phase == 'Full moon':\n",
    "   genre = [\"art pop\", \"soundtrack\",\"dark ambient\"]\n",
    "\n",
    "elif moon_phase == 'New Moon':\n",
    "   genre = [\"horror\",\"classical\"]\n",
    "    \n",
    "else:\n",
    "   genre = [\"korean indie\",\"taiwan indie\"]\n",
    "print(genre)\n"
   ]
  },
  {
   "cell_type": "code",
   "execution_count": null,
   "id": "717fd6df-cbe0-4fcf-ae40-d75b77b7da45",
   "metadata": {},
   "outputs": [],
   "source": [
    "#moon_list for loop\n",
    "genre_results=[]\n",
    "for single_genre in genre:\n",
    "    results = sp.search(q=f'genre:{single_genre}', type='track', limit=15)\n",
    "    genre_results.append(results)\n",
    "print(genre_results[0])\n"
   ]
  },
  {
   "cell_type": "code",
   "execution_count": null,
   "id": "77269809-2ef0-42f9-b718-4cb67599157d",
   "metadata": {},
   "outputs": [],
   "source": [
    "moon_tracks = genre_results[0]['tracks']['items'] + genre_results[1]['tracks']['items']+ genre_results[2]['tracks']['items']"
   ]
  },
  {
   "cell_type": "code",
   "execution_count": null,
   "id": "f5d30a3b-aad7-4d2b-bb2f-d29a712eaeb7",
   "metadata": {},
   "outputs": [],
   "source": [
    "moon_tracks[12]['uri']"
   ]
  },
  {
   "cell_type": "code",
   "execution_count": null,
   "id": "f8494ab8-f03c-451e-acc0-880b7f201fb8",
   "metadata": {},
   "outputs": [],
   "source": [
    "# URI = uniform resource identifier\n",
    "track_selection_list = []\n",
    "\n",
    "for song in moon_tracks:\n",
    "    track_selection_list.append(song['uri'])\n"
   ]
  },
  {
   "cell_type": "code",
   "execution_count": null,
   "id": "67407e38-1818-4927-9c5f-40d80caa95b3",
   "metadata": {},
   "outputs": [],
   "source": [
    "len(track_selection_list)"
   ]
  },
  {
   "cell_type": "code",
   "execution_count": null,
   "id": "29a2184f-8612-4a39-84e3-6a78ca2786ef",
   "metadata": {},
   "outputs": [],
   "source": [
    "#MAKE A PLAYLIST!!!!!!!!!!AUHHHHHHH\n",
    "#Make an empty playist\n",
    "my_playlist = sp.user_playlist_create(user=username, name=\"Dance under the moon\", public=True,\n",
    "                                      description=\"welcome to the dance fever\")\n",
    "print(my_playlist)\n"
   ]
  },
  {
   "cell_type": "code",
   "execution_count": null,
   "id": "6b647ee4-c567-4ee1-8198-4b6c28cf65ed",
   "metadata": {},
   "outputs": [],
   "source": [
    "#add songs into the playist\n",
    "results = sp.user_playlist_add_tracks(username, my_playlist['id'], track_selection_list)\n",
    "print(results)"
   ]
  },
  {
   "cell_type": "code",
   "execution_count": null,
   "id": "0b05d362-e92f-4090-aee4-c5444e2f4991",
   "metadata": {},
   "outputs": [],
   "source": [
    "# sp.start_playback(deviceID, None, track_selection_list)\n",
    "#open playist\n",
    "webbrowser.open(my_playlist['external_urls']['spotify'])"
   ]
  },
  {
   "cell_type": "code",
   "execution_count": null,
   "id": "72bbf442-334e-4ec2-b402-f094c3ecc73e",
   "metadata": {},
   "outputs": [],
   "source": []
  },
  {
   "cell_type": "code",
   "execution_count": null,
   "id": "1adb2498-b7d2-4427-9101-53c5416811c7",
   "metadata": {},
   "outputs": [],
   "source": []
  }
 ],
 "metadata": {
  "kernelspec": {
   "display_name": "Python 3 (ipykernel)",
   "language": "python",
   "name": "python3"
  },
  "language_info": {
   "codemirror_mode": {
    "name": "ipython",
    "version": 3
   },
   "file_extension": ".py",
   "mimetype": "text/x-python",
   "name": "python",
   "nbconvert_exporter": "python",
   "pygments_lexer": "ipython3",
   "version": "3.12.0"
  }
 },
 "nbformat": 4,
 "nbformat_minor": 5
}
