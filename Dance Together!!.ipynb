{
 "cells": [
  {
   "cell_type": "code",
   "execution_count": 198,
   "id": "966c7e83-7d8f-4584-b107-170d47ae0537",
   "metadata": {},
   "outputs": [],
   "source": [
    "import spotipy\n",
    "import urllib.request\n",
    "import random\n",
    "import requests\n",
    "import nltk\n",
    "import webbrowser\n",
    "import json\n",
    "from nltk import pos_tag\n",
    "import spotipy.util as util\n",
    "import http.client"
   ]
  },
  {
   "cell_type": "code",
   "execution_count": 199,
   "id": "ba6ab618-ac96-4893-afd6-2627f21006c3",
   "metadata": {},
   "outputs": [],
   "source": [
    "from requests import post"
   ]
  },
  {
   "cell_type": "code",
   "execution_count": 200,
   "id": "7370ca52-d629-4272-8901-221044768dd9",
   "metadata": {},
   "outputs": [],
   "source": [
    "from spotipy.oauth2 import SpotifyClientCredentials\n",
    "import json"
   ]
  },
  {
   "cell_type": "code",
   "execution_count": 201,
   "id": "5c055bc4-7053-412e-b6d3-b3905eaa9244",
   "metadata": {},
   "outputs": [],
   "source": [
    "# open file with keys and set the path to your credentials JSON file\n",
    "# r= read \n",
    "credentials = \"example_spotify.json\"\n",
    "with open(credentials, \"r\") as keys:\n",
    "    api_tokens = json.load(keys)"
   ]
  },
  {
   "cell_type": "code",
   "execution_count": 202,
   "id": "28e6a86f-b89e-4b72-812a-8b169522c8f5",
   "metadata": {},
   "outputs": [
    {
     "data": {
      "text/plain": [
       "{'username': 'zu91nihm12fol1t0p9510hpa0',\n",
       " 'client_id': '95b6078c108c4d188b53695335665c54',\n",
       " 'client_secret': 'de2471d40dd54c30bff0252024a6df52',\n",
       " 'redirect': 'http://google.com/'}"
      ]
     },
     "execution_count": 202,
     "metadata": {},
     "output_type": "execute_result"
    }
   ],
   "source": [
    "api_tokens"
   ]
  },
  {
   "cell_type": "code",
   "execution_count": 203,
   "id": "e217de83-19c1-4959-b3d7-135321049185",
   "metadata": {},
   "outputs": [],
   "source": [
    "# read the keys and assign each to a variable\n",
    "client_id = api_tokens[\"client_id\"]\n",
    "client_secret = api_tokens[\"client_secret\"]"
   ]
  },
  {
   "cell_type": "code",
   "execution_count": 204,
   "id": "3222d8b2-9a64-4962-be0f-b44349cd75b5",
   "metadata": {},
   "outputs": [
    {
     "name": "stdout",
     "output_type": "stream",
     "text": [
      "95b6078c108c4d188b53695335665c54 de2471d40dd54c30bff0252024a6df52\n"
     ]
    }
   ],
   "source": [
    "print(client_id, client_secret)"
   ]
  },
  {
   "cell_type": "code",
   "execution_count": 205,
   "id": "62a48530-3bb9-4423-a264-5f877953eefb",
   "metadata": {},
   "outputs": [],
   "source": [
    "#client_credentials_manager= object that hold on client id\n",
    "client_credentials_manager = SpotifyClientCredentials(client_id, client_secret)"
   ]
  },
  {
   "cell_type": "code",
   "execution_count": 206,
   "id": "37c324f3-f634-4a5f-8364-a55a7c63a9f0",
   "metadata": {},
   "outputs": [],
   "source": [
    "#spotify api have 4 items\n",
    "client_id = api_tokens[\"client_id\"]\n",
    "client_secret = api_tokens[\"client_secret\"]\n",
    "redirectURI = api_tokens[\"redirect\"]\n",
    "username = api_tokens[\"username\"]"
   ]
  },
  {
   "cell_type": "code",
   "execution_count": 207,
   "id": "6093ca6e-5d51-4092-91c2-8e84c1830143",
   "metadata": {},
   "outputs": [],
   "source": [
    "scope = 'user-read-private user-read-playback-state user-modify-playback-state playlist-modify-public'\n",
    "token = util.prompt_for_user_token(username, scope, client_id=client_id,\n",
    "                           client_secret=client_secret,\n",
    "                           redirect_uri=redirectURI)"
   ]
  },
  {
   "cell_type": "code",
   "execution_count": 208,
   "id": "21613f19-74d1-47b1-95da-362d69ae011c",
   "metadata": {},
   "outputs": [],
   "source": [
    "#create spotify object\n",
    "#setting the authorization with the final key, ie the token\n",
    "sp = spotipy.Spotify(auth=token)"
   ]
  },
  {
   "cell_type": "code",
   "execution_count": 209,
   "id": "16ad0d0d-907c-4bd8-a3b4-8c5ddf1e2aee",
   "metadata": {},
   "outputs": [
    {
     "name": "stdout",
     "output_type": "stream",
     "text": [
      "[{'id': '415e7cb0845b92110b1d0d254f0fbd29bedcbdbd', 'is_active': False, 'is_private_session': False, 'is_restricted': False, 'name': 'Web Player (Chrome)', 'supports_volume': True, 'type': 'Computer', 'volume_percent': 100}, {'id': '2735522042ee23e088d6436e5df83bde97e5627a', 'is_active': False, 'is_private_session': False, 'is_restricted': False, 'name': 'Web Player (Chrome)', 'supports_volume': True, 'type': 'Computer', 'volume_percent': 100}]\n"
     ]
    }
   ],
   "source": [
    "devices= sp.devices()\n",
    "print(devices['devices'])\n",
    "#deviceID=devices['devices'][0]['id']\n",
    "#this is tie to the spotify account"
   ]
  },
  {
   "cell_type": "code",
   "execution_count": 210,
   "id": "a82ccae2-8a76-4dee-b364-6ad7836a6d57",
   "metadata": {},
   "outputs": [],
   "source": [
    "#moonphase\n",
    "import requests\n",
    "\n",
    "def get_moon_phase(year, month, day):\n",
    "    url = f'https://aa.usno.navy.mil/api/moon/phases/date?date={year:04d}-{month:02d}-{day:02d}'\n",
    "   # print(url)\n",
    "    # Make the request\n",
    "    response = requests.get(url)\n",
    "    \n",
    "    # Parse the JSON response\n",
    "    data = response.json()\n",
    "    \n",
    "    # Extract moon phase information from the response\n",
    "    moon_phase = data['phasedata'][0]['phase']\n",
    "\n",
    "    return moon_phase"
   ]
  },
  {
   "cell_type": "code",
   "execution_count": 211,
   "id": "c1a56032-30bb-448b-875e-eeb62a1e8518",
   "metadata": {},
   "outputs": [
    {
     "name": "stdout",
     "output_type": "stream",
     "text": [
      "Last Quarter\n"
     ]
    }
   ],
   "source": [
    "#moonphase of the Year Month Day you going to dance\n",
    "year = 1997\n",
    "month = 7\n",
    "day = 24\n",
    "\n",
    "moon_phase = get_moon_phase(year, month, day)\n",
    "#if moon_phase=='Last Quarter':\n",
    "    #energy=0.25\n",
    "#elif moon_phase=='Full':\n",
    "    #energy=1\n",
    "#else:\n",
    "    #energy=0\n",
    "#print(f'Moon phase on {year}-{month:02d}-{day:02d}: {moon_phase}')\n",
    "print(moon_phase)"
   ]
  },
  {
   "cell_type": "code",
   "execution_count": 241,
   "id": "b626975a-4f6a-40d2-95a8-7e492db12132",
   "metadata": {},
   "outputs": [
    {
     "name": "stdout",
     "output_type": "stream",
     "text": [
      "['electropop', 'modern rock', 'gothic country']\n"
     ]
    }
   ],
   "source": [
    "moon_phase = get_moon_phase(year, month, day)\n",
    "\n",
    "if moon_phase == 'Last Quarter':\n",
    "    genre = [\"electropop\", \"modern rock\",\"gothic country\"]\n",
    "   \n",
    "elif moon_phase == 'Full moon':\n",
    "   genre = [\"art pop\", \"soundtrack\",\"dark ambient\"]\n",
    "\n",
    "elif moon_phase == 'New Moon':\n",
    "   genre = [\"horror\",\"classical\"]\n",
    "    \n",
    "else:\n",
    "   genre = [\"korean indie\",\"taiwan indie\"]\n",
    "print(genre)\n"
   ]
  },
  {
   "cell_type": "code",
   "execution_count": 242,
   "id": "717fd6df-cbe0-4fcf-ae40-d75b77b7da45",
   "metadata": {},
   "outputs": [
    {
     "name": "stdout",
     "output_type": "stream",
     "text": [
      "{'tracks': {'href': 'https://api.spotify.com/v1/search?query=genre%3Aelectropop&type=track&offset=0&limit=15', 'items': [{'album': {'album_type': 'single', 'artists': [{'external_urls': {'spotify': 'https://open.spotify.com/artist/7mvhRvEAHiCTQHUnH7fgnv'}, 'href': 'https://api.spotify.com/v1/artists/7mvhRvEAHiCTQHUnH7fgnv', 'id': '7mvhRvEAHiCTQHUnH7fgnv', 'name': 'Tatsuya Kitani', 'type': 'artist', 'uri': 'spotify:artist:7mvhRvEAHiCTQHUnH7fgnv'}], 'available_markets': ['AR', 'AU', 'AT', 'BE', 'BO', 'BR', 'BG', 'CA', 'CL', 'CO', 'CR', 'CY', 'CZ', 'DK', 'DO', 'DE', 'EC', 'EE', 'SV', 'FI', 'FR', 'GR', 'GT', 'HN', 'HK', 'HU', 'IS', 'IE', 'IT', 'LV', 'LT', 'LU', 'MY', 'MT', 'MX', 'NL', 'NZ', 'NI', 'NO', 'PA', 'PY', 'PE', 'PH', 'PL', 'PT', 'SG', 'SK', 'ES', 'SE', 'CH', 'TW', 'TR', 'UY', 'US', 'GB', 'AD', 'LI', 'MC', 'ID', 'JP', 'TH', 'VN', 'RO', 'IL', 'ZA', 'SA', 'AE', 'BH', 'QA', 'OM', 'KW', 'EG', 'MA', 'DZ', 'TN', 'LB', 'JO', 'PS', 'IN', 'BY', 'KZ', 'MD', 'UA', 'AL', 'BA', 'HR', 'ME', 'MK', 'RS', 'SI', 'KR', 'BD', 'PK', 'LK', 'GH', 'KE', 'NG', 'TZ', 'UG', 'AG', 'AM', 'BS', 'BB', 'BZ', 'BT', 'BW', 'BF', 'CV', 'CW', 'DM', 'FJ', 'GM', 'GE', 'GD', 'GW', 'GY', 'HT', 'JM', 'KI', 'LS', 'LR', 'MW', 'MV', 'ML', 'MH', 'FM', 'NA', 'NR', 'NE', 'PW', 'PG', 'WS', 'SM', 'ST', 'SN', 'SC', 'SL', 'SB', 'KN', 'LC', 'VC', 'SR', 'TL', 'TO', 'TT', 'TV', 'VU', 'AZ', 'BN', 'BI', 'KH', 'CM', 'TD', 'KM', 'GQ', 'SZ', 'GA', 'GN', 'KG', 'LA', 'MO', 'MR', 'MN', 'NP', 'RW', 'TG', 'UZ', 'ZW', 'BJ', 'MG', 'MU', 'MZ', 'AO', 'CI', 'DJ', 'ZM', 'CD', 'CG', 'IQ', 'LY', 'TJ', 'VE', 'ET', 'XK'], 'external_urls': {'spotify': 'https://open.spotify.com/album/4QjNVlIw8Rx6jItSZtn2VS'}, 'href': 'https://api.spotify.com/v1/albums/4QjNVlIw8Rx6jItSZtn2VS', 'id': '4QjNVlIw8Rx6jItSZtn2VS', 'images': [{'height': 640, 'url': 'https://i.scdn.co/image/ab67616d0000b273e9ce77912820de8e7a129cfe', 'width': 640}, {'height': 300, 'url': 'https://i.scdn.co/image/ab67616d00001e02e9ce77912820de8e7a129cfe', 'width': 300}, {'height': 64, 'url': 'https://i.scdn.co/image/ab67616d00004851e9ce77912820de8e7a129cfe', 'width': 64}], 'name': '青のすみか', 'release_date': '2023-07-07', 'release_date_precision': 'day', 'total_tracks': 1, 'type': 'album', 'uri': 'spotify:album:4QjNVlIw8Rx6jItSZtn2VS'}, 'artists': [{'external_urls': {'spotify': 'https://open.spotify.com/artist/7mvhRvEAHiCTQHUnH7fgnv'}, 'href': 'https://api.spotify.com/v1/artists/7mvhRvEAHiCTQHUnH7fgnv', 'id': '7mvhRvEAHiCTQHUnH7fgnv', 'name': 'Tatsuya Kitani', 'type': 'artist', 'uri': 'spotify:artist:7mvhRvEAHiCTQHUnH7fgnv'}], 'available_markets': ['AR', 'AU', 'AT', 'BE', 'BO', 'BR', 'BG', 'CA', 'CL', 'CO', 'CR', 'CY', 'CZ', 'DK', 'DO', 'DE', 'EC', 'EE', 'SV', 'FI', 'FR', 'GR', 'GT', 'HN', 'HK', 'HU', 'IS', 'IE', 'IT', 'LV', 'LT', 'LU', 'MY', 'MT', 'MX', 'NL', 'NZ', 'NI', 'NO', 'PA', 'PY', 'PE', 'PH', 'PL', 'PT', 'SG', 'SK', 'ES', 'SE', 'CH', 'TW', 'TR', 'UY', 'US', 'GB', 'AD', 'LI', 'MC', 'ID', 'JP', 'TH', 'VN', 'RO', 'IL', 'ZA', 'SA', 'AE', 'BH', 'QA', 'OM', 'KW', 'EG', 'MA', 'DZ', 'TN', 'LB', 'JO', 'PS', 'IN', 'BY', 'KZ', 'MD', 'UA', 'AL', 'BA', 'HR', 'ME', 'MK', 'RS', 'SI', 'KR', 'BD', 'PK', 'LK', 'GH', 'KE', 'NG', 'TZ', 'UG', 'AG', 'AM', 'BS', 'BB', 'BZ', 'BT', 'BW', 'BF', 'CV', 'CW', 'DM', 'FJ', 'GM', 'GE', 'GD', 'GW', 'GY', 'HT', 'JM', 'KI', 'LS', 'LR', 'MW', 'MV', 'ML', 'MH', 'FM', 'NA', 'NR', 'NE', 'PW', 'PG', 'WS', 'SM', 'ST', 'SN', 'SC', 'SL', 'SB', 'KN', 'LC', 'VC', 'SR', 'TL', 'TO', 'TT', 'TV', 'VU', 'AZ', 'BN', 'BI', 'KH', 'CM', 'TD', 'KM', 'GQ', 'SZ', 'GA', 'GN', 'KG', 'LA', 'MO', 'MR', 'MN', 'NP', 'RW', 'TG', 'UZ', 'ZW', 'BJ', 'MG', 'MU', 'MZ', 'AO', 'CI', 'DJ', 'ZM', 'CD', 'CG', 'IQ', 'LY', 'TJ', 'VE', 'ET', 'XK'], 'disc_number': 1, 'duration_ms': 196466, 'explicit': False, 'external_ids': {'isrc': 'JPU902302107'}, 'external_urls': {'spotify': 'https://open.spotify.com/track/12usPU2WnqgCHAW1EK2dfd'}, 'href': 'https://api.spotify.com/v1/tracks/12usPU2WnqgCHAW1EK2dfd', 'id': '12usPU2WnqgCHAW1EK2dfd', 'is_local': False, 'name': '青のすみか', 'popularity': 83, 'preview_url': 'https://p.scdn.co/mp3-preview/f70c128ef08dda2b1a5d2ed9e996358fb1656634?cid=95b6078c108c4d188b53695335665c54', 'track_number': 1, 'type': 'track', 'uri': 'spotify:track:12usPU2WnqgCHAW1EK2dfd'}, {'album': {'album_type': 'album', 'artists': [{'external_urls': {'spotify': 'https://open.spotify.com/artist/5Qeyh2XKoITt1mlEVtzazC'}, 'href': 'https://api.spotify.com/v1/artists/5Qeyh2XKoITt1mlEVtzazC', 'id': '5Qeyh2XKoITt1mlEVtzazC', 'name': 'Daoko', 'type': 'artist', 'uri': 'spotify:artist:5Qeyh2XKoITt1mlEVtzazC'}], 'available_markets': ['AR', 'AU', 'AT', 'BE', 'BO', 'BR', 'BG', 'CA', 'CL', 'CO', 'CR', 'CY', 'CZ', 'DK', 'DO', 'DE', 'EC', 'EE', 'SV', 'FI', 'FR', 'GR', 'GT', 'HN', 'HK', 'HU', 'IS', 'IE', 'IT', 'LV', 'LT', 'LU', 'MY', 'MT', 'MX', 'NL', 'NZ', 'NI', 'NO', 'PA', 'PY', 'PE', 'PH', 'PL', 'PT', 'SG', 'SK', 'ES', 'SE', 'CH', 'TW', 'TR', 'UY', 'US', 'GB', 'AD', 'LI', 'MC', 'ID', 'JP', 'TH', 'VN', 'RO', 'IL', 'ZA', 'SA', 'AE', 'BH', 'QA', 'OM', 'KW', 'EG', 'MA', 'DZ', 'TN', 'LB', 'JO', 'PS', 'IN', 'BY', 'KZ', 'MD', 'UA', 'AL', 'BA', 'HR', 'ME', 'MK', 'RS', 'SI', 'KR', 'BD', 'PK', 'LK', 'GH', 'KE', 'NG', 'TZ', 'UG', 'AG', 'AM', 'BS', 'BB', 'BZ', 'BT', 'BW', 'BF', 'CV', 'CW', 'DM', 'FJ', 'GM', 'GE', 'GD', 'GW', 'GY', 'HT', 'JM', 'KI', 'LS', 'LR', 'MW', 'MV', 'ML', 'MH', 'FM', 'NA', 'NR', 'NE', 'PW', 'PG', 'WS', 'SM', 'ST', 'SN', 'SC', 'SL', 'SB', 'KN', 'LC', 'VC', 'SR', 'TL', 'TO', 'TT', 'TV', 'VU', 'AZ', 'BN', 'BI', 'KH', 'CM', 'TD', 'KM', 'GQ', 'SZ', 'GA', 'GN', 'KG', 'LA', 'MO', 'MR', 'MN', 'NP', 'RW', 'TG', 'UZ', 'ZW', 'BJ', 'MG', 'MU', 'MZ', 'AO', 'CI', 'DJ', 'ZM', 'CD', 'CG', 'IQ', 'LY', 'TJ', 'VE', 'ET', 'XK'], 'external_urls': {'spotify': 'https://open.spotify.com/album/7202ZrUyEoOv4xwbbBEfql'}, 'href': 'https://api.spotify.com/v1/albums/7202ZrUyEoOv4xwbbBEfql', 'id': '7202ZrUyEoOv4xwbbBEfql', 'images': [{'height': 640, 'url': 'https://i.scdn.co/image/ab67616d0000b273e7f0b1cfcf4da8333f7644aa', 'width': 640}, {'height': 300, 'url': 'https://i.scdn.co/image/ab67616d00001e02e7f0b1cfcf4da8333f7644aa', 'width': 300}, {'height': 64, 'url': 'https://i.scdn.co/image/ab67616d00004851e7f0b1cfcf4da8333f7644aa', 'width': 64}], 'name': 'THANK YOU BLUE', 'release_date': '2017-12-20', 'release_date_precision': 'day', 'total_tracks': 14, 'type': 'album', 'uri': 'spotify:album:7202ZrUyEoOv4xwbbBEfql'}, 'artists': [{'external_urls': {'spotify': 'https://open.spotify.com/artist/5Qeyh2XKoITt1mlEVtzazC'}, 'href': 'https://api.spotify.com/v1/artists/5Qeyh2XKoITt1mlEVtzazC', 'id': '5Qeyh2XKoITt1mlEVtzazC', 'name': 'Daoko', 'type': 'artist', 'uri': 'spotify:artist:5Qeyh2XKoITt1mlEVtzazC'}, {'external_urls': {'spotify': 'https://open.spotify.com/artist/1snhtMLeb2DYoMOcVbb8iB'}, 'href': 'https://api.spotify.com/v1/artists/1snhtMLeb2DYoMOcVbb8iB', 'id': '1snhtMLeb2DYoMOcVbb8iB', 'name': 'Kenshi Yonezu', 'type': 'artist', 'uri': 'spotify:artist:1snhtMLeb2DYoMOcVbb8iB'}], 'available_markets': ['AR', 'AU', 'AT', 'BE', 'BO', 'BR', 'BG', 'CA', 'CL', 'CO', 'CR', 'CY', 'CZ', 'DK', 'DO', 'DE', 'EC', 'EE', 'SV', 'FI', 'FR', 'GR', 'GT', 'HN', 'HK', 'HU', 'IS', 'IE', 'IT', 'LV', 'LT', 'LU', 'MY', 'MT', 'MX', 'NL', 'NZ', 'NI', 'NO', 'PA', 'PY', 'PE', 'PH', 'PL', 'PT', 'SG', 'SK', 'ES', 'SE', 'CH', 'TW', 'TR', 'UY', 'US', 'GB', 'AD', 'LI', 'MC', 'ID', 'JP', 'TH', 'VN', 'RO', 'IL', 'ZA', 'SA', 'AE', 'BH', 'QA', 'OM', 'KW', 'EG', 'MA', 'DZ', 'TN', 'LB', 'JO', 'PS', 'IN', 'BY', 'KZ', 'MD', 'UA', 'AL', 'BA', 'HR', 'ME', 'MK', 'RS', 'SI', 'KR', 'BD', 'PK', 'LK', 'GH', 'KE', 'NG', 'TZ', 'UG', 'AG', 'AM', 'BS', 'BB', 'BZ', 'BT', 'BW', 'BF', 'CV', 'CW', 'DM', 'FJ', 'GM', 'GE', 'GD', 'GW', 'GY', 'HT', 'JM', 'KI', 'LS', 'LR', 'MW', 'MV', 'ML', 'MH', 'FM', 'NA', 'NR', 'NE', 'PW', 'PG', 'WS', 'SM', 'ST', 'SN', 'SC', 'SL', 'SB', 'KN', 'LC', 'VC', 'SR', 'TL', 'TO', 'TT', 'TV', 'VU', 'AZ', 'BN', 'BI', 'KH', 'CM', 'TD', 'KM', 'GQ', 'SZ', 'GA', 'GN', 'KG', 'LA', 'MO', 'MR', 'MN', 'NP', 'RW', 'TG', 'UZ', 'ZW', 'BJ', 'MG', 'MU', 'MZ', 'AO', 'CI', 'DJ', 'ZM', 'CD', 'CG', 'IQ', 'LY', 'TJ', 'VE', 'ET', 'XK'], 'disc_number': 1, 'duration_ms': 289577, 'explicit': False, 'external_ids': {'isrc': 'JPTF01710201'}, 'external_urls': {'spotify': 'https://open.spotify.com/track/4IouQaO9GkaHC7AtMErdSa'}, 'href': 'https://api.spotify.com/v1/tracks/4IouQaO9GkaHC7AtMErdSa', 'id': '4IouQaO9GkaHC7AtMErdSa', 'is_local': False, 'name': '打上花火', 'popularity': 65, 'preview_url': 'https://p.scdn.co/mp3-preview/a7f9fd2dd45bb43e024835cd1928fe1e395fb228?cid=95b6078c108c4d188b53695335665c54', 'track_number': 1, 'type': 'track', 'uri': 'spotify:track:4IouQaO9GkaHC7AtMErdSa'}, {'album': {'album_type': 'album', 'artists': [{'external_urls': {'spotify': 'https://open.spotify.com/artist/0i6y5QKeQTwK7r10852D8r'}, 'href': 'https://api.spotify.com/v1/artists/0i6y5QKeQTwK7r10852D8r', 'id': '0i6y5QKeQTwK7r10852D8r', 'name': '葛东琪', 'type': 'artist', 'uri': 'spotify:artist:0i6y5QKeQTwK7r10852D8r'}], 'available_markets': ['AR', 'AU', 'AT', 'BE', 'BO', 'BR', 'BG', 'CA', 'CL', 'CO', 'CR', 'CY', 'CZ', 'DK', 'DO', 'DE', 'EC', 'EE', 'SV', 'FI', 'FR', 'GR', 'GT', 'HN', 'HK', 'HU', 'IS', 'IE', 'IT', 'LV', 'LT', 'LU', 'MY', 'MT', 'MX', 'NL', 'NZ', 'NI', 'NO', 'PA', 'PY', 'PE', 'PH', 'PL', 'PT', 'SG', 'SK', 'ES', 'SE', 'CH', 'TW', 'TR', 'UY', 'US', 'GB', 'AD', 'LI', 'MC', 'ID', 'JP', 'TH', 'VN', 'RO', 'IL', 'ZA', 'SA', 'AE', 'BH', 'QA', 'OM', 'KW', 'EG', 'MA', 'DZ', 'TN', 'LB', 'JO', 'PS', 'IN', 'BY', 'KZ', 'MD', 'UA', 'AL', 'BA', 'HR', 'ME', 'MK', 'RS', 'SI', 'KR', 'BD', 'PK', 'LK', 'GH', 'KE', 'NG', 'TZ', 'UG', 'AG', 'AM', 'BS', 'BB', 'BZ', 'BT', 'BW', 'BF', 'CV', 'CW', 'DM', 'FJ', 'GM', 'GE', 'GD', 'GW', 'GY', 'HT', 'JM', 'KI', 'LS', 'LR', 'MW', 'MV', 'ML', 'MH', 'FM', 'NA', 'NR', 'NE', 'PW', 'PG', 'WS', 'SM', 'ST', 'SN', 'SC', 'SL', 'SB', 'KN', 'LC', 'VC', 'SR', 'TL', 'TO', 'TT', 'TV', 'VU', 'AZ', 'BN', 'BI', 'KH', 'CM', 'TD', 'KM', 'GQ', 'SZ', 'GA', 'GN', 'KG', 'LA', 'MO', 'MR', 'MN', 'NP', 'RW', 'TG', 'UZ', 'ZW', 'BJ', 'MG', 'MU', 'MZ', 'AO', 'CI', 'DJ', 'ZM', 'CD', 'CG', 'IQ', 'LY', 'TJ', 'VE', 'ET', 'XK'], 'external_urls': {'spotify': 'https://open.spotify.com/album/58i6TNjIZibtJ8bw5ihLbE'}, 'href': 'https://api.spotify.com/v1/albums/58i6TNjIZibtJ8bw5ihLbE', 'id': '58i6TNjIZibtJ8bw5ihLbE', 'images': [{'height': 640, 'url': 'https://i.scdn.co/image/ab67616d0000b2738021025c6446c24f71f8506d', 'width': 640}, {'height': 300, 'url': 'https://i.scdn.co/image/ab67616d00001e028021025c6446c24f71f8506d', 'width': 300}, {'height': 64, 'url': 'https://i.scdn.co/image/ab67616d000048518021025c6446c24f71f8506d', 'width': 64}], 'name': '第二街区', 'release_date': '2020-12-22', 'release_date_precision': 'day', 'total_tracks': 10, 'type': 'album', 'uri': 'spotify:album:58i6TNjIZibtJ8bw5ihLbE'}, 'artists': [{'external_urls': {'spotify': 'https://open.spotify.com/artist/0i6y5QKeQTwK7r10852D8r'}, 'href': 'https://api.spotify.com/v1/artists/0i6y5QKeQTwK7r10852D8r', 'id': '0i6y5QKeQTwK7r10852D8r', 'name': '葛东琪', 'type': 'artist', 'uri': 'spotify:artist:0i6y5QKeQTwK7r10852D8r'}], 'available_markets': ['AR', 'AU', 'AT', 'BE', 'BO', 'BR', 'BG', 'CA', 'CL', 'CO', 'CR', 'CY', 'CZ', 'DK', 'DO', 'DE', 'EC', 'EE', 'SV', 'FI', 'FR', 'GR', 'GT', 'HN', 'HK', 'HU', 'IS', 'IE', 'IT', 'LV', 'LT', 'LU', 'MY', 'MT', 'MX', 'NL', 'NZ', 'NI', 'NO', 'PA', 'PY', 'PE', 'PH', 'PL', 'PT', 'SG', 'SK', 'ES', 'SE', 'CH', 'TW', 'TR', 'UY', 'US', 'GB', 'AD', 'LI', 'MC', 'ID', 'JP', 'TH', 'VN', 'RO', 'IL', 'ZA', 'SA', 'AE', 'BH', 'QA', 'OM', 'KW', 'EG', 'MA', 'DZ', 'TN', 'LB', 'JO', 'PS', 'IN', 'BY', 'KZ', 'MD', 'UA', 'AL', 'BA', 'HR', 'ME', 'MK', 'RS', 'SI', 'KR', 'BD', 'PK', 'LK', 'GH', 'KE', 'NG', 'TZ', 'UG', 'AG', 'AM', 'BS', 'BB', 'BZ', 'BT', 'BW', 'BF', 'CV', 'CW', 'DM', 'FJ', 'GM', 'GE', 'GD', 'GW', 'GY', 'HT', 'JM', 'KI', 'LS', 'LR', 'MW', 'MV', 'ML', 'MH', 'FM', 'NA', 'NR', 'NE', 'PW', 'PG', 'WS', 'SM', 'ST', 'SN', 'SC', 'SL', 'SB', 'KN', 'LC', 'VC', 'SR', 'TL', 'TO', 'TT', 'TV', 'VU', 'AZ', 'BN', 'BI', 'KH', 'CM', 'TD', 'KM', 'GQ', 'SZ', 'GA', 'GN', 'KG', 'LA', 'MO', 'MR', 'MN', 'NP', 'RW', 'TG', 'UZ', 'ZW', 'BJ', 'MG', 'MU', 'MZ', 'AO', 'CI', 'DJ', 'ZM', 'CD', 'CG', 'IQ', 'LY', 'TJ', 'VE', 'ET', 'XK'], 'disc_number': 1, 'duration_ms': 197083, 'explicit': False, 'external_ids': {'isrc': 'HKG732009017'}, 'external_urls': {'spotify': 'https://open.spotify.com/track/0PF5sCX3LMn9NhKvaGFGJT'}, 'href': 'https://api.spotify.com/v1/tracks/0PF5sCX3LMn9NhKvaGFGJT', 'id': '0PF5sCX3LMn9NhKvaGFGJT', 'is_local': False, 'name': '悬溺', 'popularity': 48, 'preview_url': 'https://p.scdn.co/mp3-preview/5f9aaf8a3d70aa22e9bc55c6fa796bbdbad9807b?cid=95b6078c108c4d188b53695335665c54', 'track_number': 3, 'type': 'track', 'uri': 'spotify:track:0PF5sCX3LMn9NhKvaGFGJT'}, {'album': {'album_type': 'album', 'artists': [{'external_urls': {'spotify': 'https://open.spotify.com/artist/26VFTg2z8YR0cCuwLzESi2'}, 'href': 'https://api.spotify.com/v1/artists/26VFTg2z8YR0cCuwLzESi2', 'id': '26VFTg2z8YR0cCuwLzESi2', 'name': 'Halsey', 'type': 'artist', 'uri': 'spotify:artist:26VFTg2z8YR0cCuwLzESi2'}], 'available_markets': ['AR', 'AU', 'AT', 'BE', 'BO', 'BR', 'BG', 'CA', 'CL', 'CO', 'CR', 'CY', 'CZ', 'DK', 'DO', 'DE', 'EC', 'EE', 'SV', 'FI', 'FR', 'GR', 'GT', 'HN', 'HK', 'HU', 'IS', 'IE', 'IT', 'LV', 'LT', 'LU', 'MY', 'MT', 'MX', 'NL', 'NZ', 'NI', 'NO', 'PA', 'PY', 'PE', 'PH', 'PL', 'PT', 'SG', 'SK', 'ES', 'SE', 'CH', 'TW', 'TR', 'UY', 'US', 'GB', 'AD', 'LI', 'MC', 'ID', 'JP', 'TH', 'VN', 'RO', 'IL', 'ZA', 'SA', 'AE', 'BH', 'QA', 'OM', 'KW', 'EG', 'MA', 'DZ', 'TN', 'LB', 'JO', 'PS', 'IN', 'BY', 'KZ', 'MD', 'UA', 'AL', 'BA', 'HR', 'ME', 'MK', 'RS', 'SI', 'KR', 'BD', 'PK', 'LK', 'GH', 'KE', 'NG', 'TZ', 'UG', 'AG', 'AM', 'BS', 'BB', 'BZ', 'BT', 'BW', 'CV', 'CW', 'DM', 'FJ', 'GM', 'GE', 'GD', 'GW', 'GY', 'HT', 'JM', 'KI', 'LS', 'LR', 'MW', 'MV', 'ML', 'MH', 'FM', 'NA', 'NR', 'NE', 'PW', 'PG', 'WS', 'SM', 'ST', 'SN', 'SC', 'SL', 'SB', 'KN', 'LC', 'VC', 'SR', 'TL', 'TO', 'TT', 'TV', 'VU', 'AZ', 'BI', 'KH', 'CM', 'TD', 'KM', 'GQ', 'SZ', 'GA', 'GN', 'KG', 'LA', 'MO', 'MR', 'MN', 'NP', 'RW', 'TG', 'UZ', 'ZW', 'BJ', 'MG', 'MU', 'MZ', 'AO', 'CI', 'DJ', 'ZM', 'CD', 'CG', 'IQ', 'LY', 'TJ', 'VE', 'ET', 'XK'], 'external_urls': {'spotify': 'https://open.spotify.com/album/68enXe5XcJdciSDAZr0Alr'}, 'href': 'https://api.spotify.com/v1/albums/68enXe5XcJdciSDAZr0Alr', 'id': '68enXe5XcJdciSDAZr0Alr', 'images': [{'height': 640, 'url': 'https://i.scdn.co/image/ab67616d0000b2737636e1c9e67eaafc9f49aefd', 'width': 640}, {'height': 300, 'url': 'https://i.scdn.co/image/ab67616d00001e027636e1c9e67eaafc9f49aefd', 'width': 300}, {'height': 64, 'url': 'https://i.scdn.co/image/ab67616d000048517636e1c9e67eaafc9f49aefd', 'width': 64}], 'name': 'Manic', 'release_date': '2020-01-17', 'release_date_precision': 'day', 'total_tracks': 16, 'type': 'album', 'uri': 'spotify:album:68enXe5XcJdciSDAZr0Alr'}, 'artists': [{'external_urls': {'spotify': 'https://open.spotify.com/artist/26VFTg2z8YR0cCuwLzESi2'}, 'href': 'https://api.spotify.com/v1/artists/26VFTg2z8YR0cCuwLzESi2', 'id': '26VFTg2z8YR0cCuwLzESi2', 'name': 'Halsey', 'type': 'artist', 'uri': 'spotify:artist:26VFTg2z8YR0cCuwLzESi2'}], 'available_markets': ['AR', 'AU', 'AT', 'BE', 'BO', 'BR', 'BG', 'CA', 'CL', 'CO', 'CR', 'CY', 'CZ', 'DK', 'DO', 'DE', 'EC', 'EE', 'SV', 'FI', 'FR', 'GR', 'GT', 'HN', 'HK', 'HU', 'IS', 'IE', 'IT', 'LV', 'LT', 'LU', 'MY', 'MT', 'MX', 'NL', 'NZ', 'NI', 'NO', 'PA', 'PY', 'PE', 'PH', 'PL', 'PT', 'SG', 'SK', 'ES', 'SE', 'CH', 'TW', 'TR', 'UY', 'US', 'GB', 'AD', 'LI', 'MC', 'ID', 'JP', 'TH', 'VN', 'RO', 'IL', 'ZA', 'SA', 'AE', 'BH', 'QA', 'OM', 'KW', 'EG', 'MA', 'DZ', 'TN', 'LB', 'JO', 'PS', 'IN', 'BY', 'KZ', 'MD', 'UA', 'AL', 'BA', 'HR', 'ME', 'MK', 'RS', 'SI', 'KR', 'BD', 'PK', 'LK', 'GH', 'KE', 'NG', 'TZ', 'UG', 'AG', 'AM', 'BS', 'BB', 'BZ', 'BT', 'BW', 'CV', 'CW', 'DM', 'FJ', 'GM', 'GE', 'GD', 'GW', 'GY', 'HT', 'JM', 'KI', 'LS', 'LR', 'MW', 'MV', 'ML', 'MH', 'FM', 'NA', 'NR', 'NE', 'PW', 'PG', 'WS', 'SM', 'ST', 'SN', 'SC', 'SL', 'SB', 'KN', 'LC', 'VC', 'SR', 'TL', 'TO', 'TT', 'TV', 'VU', 'AZ', 'BI', 'KH', 'CM', 'TD', 'KM', 'GQ', 'SZ', 'GA', 'GN', 'KG', 'LA', 'MO', 'MR', 'MN', 'NP', 'RW', 'TG', 'UZ', 'ZW', 'BJ', 'MG', 'MU', 'MZ', 'AO', 'CI', 'DJ', 'ZM', 'CD', 'CG', 'IQ', 'LY', 'TJ', 'VE', 'ET', 'XK'], 'disc_number': 1, 'duration_ms': 201660, 'explicit': True, 'external_ids': {'isrc': 'USUM71813499'}, 'external_urls': {'spotify': 'https://open.spotify.com/track/6FZDfxM3a3UCqtzo5pxSLZ'}, 'href': 'https://api.spotify.com/v1/tracks/6FZDfxM3a3UCqtzo5pxSLZ', 'id': '6FZDfxM3a3UCqtzo5pxSLZ', 'is_local': False, 'name': 'Without Me', 'popularity': 83, 'preview_url': None, 'track_number': 9, 'type': 'track', 'uri': 'spotify:track:6FZDfxM3a3UCqtzo5pxSLZ'}, {'album': {'album_type': 'album', 'artists': [{'external_urls': {'spotify': 'https://open.spotify.com/artist/0i6y5QKeQTwK7r10852D8r'}, 'href': 'https://api.spotify.com/v1/artists/0i6y5QKeQTwK7r10852D8r', 'id': '0i6y5QKeQTwK7r10852D8r', 'name': '葛东琪', 'type': 'artist', 'uri': 'spotify:artist:0i6y5QKeQTwK7r10852D8r'}], 'available_markets': ['AR', 'AU', 'AT', 'BE', 'BO', 'BR', 'BG', 'CA', 'CL', 'CO', 'CR', 'CY', 'CZ', 'DK', 'DO', 'DE', 'EC', 'EE', 'SV', 'FI', 'FR', 'GR', 'GT', 'HN', 'HK', 'HU', 'IS', 'IE', 'IT', 'LV', 'LT', 'LU', 'MY', 'MT', 'MX', 'NL', 'NZ', 'NI', 'NO', 'PA', 'PY', 'PE', 'PH', 'PL', 'PT', 'SG', 'SK', 'ES', 'SE', 'CH', 'TW', 'TR', 'UY', 'US', 'GB', 'AD', 'LI', 'MC', 'ID', 'JP', 'TH', 'VN', 'RO', 'IL', 'ZA', 'SA', 'AE', 'BH', 'QA', 'OM', 'KW', 'EG', 'MA', 'DZ', 'TN', 'LB', 'JO', 'PS', 'IN', 'BY', 'KZ', 'MD', 'UA', 'AL', 'BA', 'HR', 'ME', 'MK', 'RS', 'SI', 'KR', 'BD', 'PK', 'LK', 'GH', 'KE', 'NG', 'TZ', 'UG', 'AG', 'AM', 'BS', 'BB', 'BZ', 'BT', 'BW', 'BF', 'CV', 'CW', 'DM', 'FJ', 'GM', 'GE', 'GD', 'GW', 'GY', 'HT', 'JM', 'KI', 'LS', 'LR', 'MW', 'MV', 'ML', 'MH', 'FM', 'NA', 'NR', 'NE', 'PW', 'PG', 'WS', 'SM', 'ST', 'SN', 'SC', 'SL', 'SB', 'KN', 'LC', 'VC', 'SR', 'TL', 'TO', 'TT', 'TV', 'VU', 'AZ', 'BN', 'BI', 'KH', 'CM', 'TD', 'KM', 'GQ', 'SZ', 'GA', 'GN', 'KG', 'LA', 'MO', 'MR', 'MN', 'NP', 'RW', 'TG', 'UZ', 'ZW', 'BJ', 'MG', 'MU', 'MZ', 'AO', 'CI', 'DJ', 'ZM', 'CD', 'CG', 'IQ', 'LY', 'TJ', 'VE', 'ET', 'XK'], 'external_urls': {'spotify': 'https://open.spotify.com/album/6I0o95odBranDupdsATgXa'}, 'href': 'https://api.spotify.com/v1/albums/6I0o95odBranDupdsATgXa', 'id': '6I0o95odBranDupdsATgXa', 'images': [{'height': 640, 'url': 'https://i.scdn.co/image/ab67616d0000b2734fde3eeaea46302f2ec59d18', 'width': 640}, {'height': 300, 'url': 'https://i.scdn.co/image/ab67616d00001e024fde3eeaea46302f2ec59d18', 'width': 300}, {'height': 64, 'url': 'https://i.scdn.co/image/ab67616d000048514fde3eeaea46302f2ec59d18', 'width': 64}], 'name': '第二街区', 'release_date': '2020-10-21', 'release_date_precision': 'day', 'total_tracks': 9, 'type': 'album', 'uri': 'spotify:album:6I0o95odBranDupdsATgXa'}, 'artists': [{'external_urls': {'spotify': 'https://open.spotify.com/artist/0i6y5QKeQTwK7r10852D8r'}, 'href': 'https://api.spotify.com/v1/artists/0i6y5QKeQTwK7r10852D8r', 'id': '0i6y5QKeQTwK7r10852D8r', 'name': '葛东琪', 'type': 'artist', 'uri': 'spotify:artist:0i6y5QKeQTwK7r10852D8r'}], 'available_markets': ['AR', 'AU', 'AT', 'BE', 'BO', 'BR', 'BG', 'CA', 'CL', 'CO', 'CR', 'CY', 'CZ', 'DK', 'DO', 'DE', 'EC', 'EE', 'SV', 'FI', 'FR', 'GR', 'GT', 'HN', 'HK', 'HU', 'IS', 'IE', 'IT', 'LV', 'LT', 'LU', 'MY', 'MT', 'MX', 'NL', 'NZ', 'NI', 'NO', 'PA', 'PY', 'PE', 'PH', 'PL', 'PT', 'SG', 'SK', 'ES', 'SE', 'CH', 'TW', 'TR', 'UY', 'US', 'GB', 'AD', 'LI', 'MC', 'ID', 'JP', 'TH', 'VN', 'RO', 'IL', 'ZA', 'SA', 'AE', 'BH', 'QA', 'OM', 'KW', 'EG', 'MA', 'DZ', 'TN', 'LB', 'JO', 'PS', 'IN', 'BY', 'KZ', 'MD', 'UA', 'AL', 'BA', 'HR', 'ME', 'MK', 'RS', 'SI', 'KR', 'BD', 'PK', 'LK', 'GH', 'KE', 'NG', 'TZ', 'UG', 'AG', 'AM', 'BS', 'BB', 'BZ', 'BT', 'BW', 'BF', 'CV', 'CW', 'DM', 'FJ', 'GM', 'GE', 'GD', 'GW', 'GY', 'HT', 'JM', 'KI', 'LS', 'LR', 'MW', 'MV', 'ML', 'MH', 'FM', 'NA', 'NR', 'NE', 'PW', 'PG', 'WS', 'SM', 'ST', 'SN', 'SC', 'SL', 'SB', 'KN', 'LC', 'VC', 'SR', 'TL', 'TO', 'TT', 'TV', 'VU', 'AZ', 'BN', 'BI', 'KH', 'CM', 'TD', 'KM', 'GQ', 'SZ', 'GA', 'GN', 'KG', 'LA', 'MO', 'MR', 'MN', 'NP', 'RW', 'TG', 'UZ', 'ZW', 'BJ', 'MG', 'MU', 'MZ', 'AO', 'CI', 'DJ', 'ZM', 'CD', 'CG', 'IQ', 'LY', 'TJ', 'VE', 'ET', 'XK'], 'disc_number': 1, 'duration_ms': 197083, 'explicit': False, 'external_ids': {'isrc': 'HKG732009017'}, 'external_urls': {'spotify': 'https://open.spotify.com/track/6KawiOB31kOOc3hNDVjw32'}, 'href': 'https://api.spotify.com/v1/tracks/6KawiOB31kOOc3hNDVjw32', 'id': '6KawiOB31kOOc3hNDVjw32', 'is_local': False, 'name': '悬溺', 'popularity': 61, 'preview_url': 'https://p.scdn.co/mp3-preview/5f9aaf8a3d70aa22e9bc55c6fa796bbdbad9807b?cid=95b6078c108c4d188b53695335665c54', 'track_number': 3, 'type': 'track', 'uri': 'spotify:track:6KawiOB31kOOc3hNDVjw32'}, {'album': {'album_type': 'single', 'artists': [{'external_urls': {'spotify': 'https://open.spotify.com/artist/6v6qfXRvTRGGsmGfDvtMIK'}, 'href': 'https://api.spotify.com/v1/artists/6v6qfXRvTRGGsmGfDvtMIK', 'id': '6v6qfXRvTRGGsmGfDvtMIK', 'name': 'Karencici', 'type': 'artist', 'uri': 'spotify:artist:6v6qfXRvTRGGsmGfDvtMIK'}], 'available_markets': ['HK', 'MO', 'TW'], 'external_urls': {'spotify': 'https://open.spotify.com/album/2AUPyAKhduHx7QI8pw0qvl'}, 'href': 'https://api.spotify.com/v1/albums/2AUPyAKhduHx7QI8pw0qvl', 'id': '2AUPyAKhduHx7QI8pw0qvl', 'images': [{'height': 640, 'url': 'https://i.scdn.co/image/ab67616d0000b273c86476f0bcbb6f0e8c3ba940', 'width': 640}, {'height': 300, 'url': 'https://i.scdn.co/image/ab67616d00001e02c86476f0bcbb6f0e8c3ba940', 'width': 300}, {'height': 64, 'url': 'https://i.scdn.co/image/ab67616d00004851c86476f0bcbb6f0e8c3ba940', 'width': 64}], 'name': 'JieJie', 'release_date': '2023-11-07', 'release_date_precision': 'day', 'total_tracks': 1, 'type': 'album', 'uri': 'spotify:album:2AUPyAKhduHx7QI8pw0qvl'}, 'artists': [{'external_urls': {'spotify': 'https://open.spotify.com/artist/6v6qfXRvTRGGsmGfDvtMIK'}, 'href': 'https://api.spotify.com/v1/artists/6v6qfXRvTRGGsmGfDvtMIK', 'id': '6v6qfXRvTRGGsmGfDvtMIK', 'name': 'Karencici', 'type': 'artist', 'uri': 'spotify:artist:6v6qfXRvTRGGsmGfDvtMIK'}], 'available_markets': ['HK', 'MO', 'TW'], 'disc_number': 1, 'duration_ms': 157272, 'explicit': True, 'external_ids': {'isrc': 'TWD952391102'}, 'external_urls': {'spotify': 'https://open.spotify.com/track/7EFiV7c4OxsabTEve1J2YX'}, 'href': 'https://api.spotify.com/v1/tracks/7EFiV7c4OxsabTEve1J2YX', 'id': '7EFiV7c4OxsabTEve1J2YX', 'is_local': False, 'name': 'JieJie', 'popularity': 48, 'preview_url': 'https://p.scdn.co/mp3-preview/1c90fb077e6256117ea11fa0cb05c42d4d32da15?cid=95b6078c108c4d188b53695335665c54', 'track_number': 1, 'type': 'track', 'uri': 'spotify:track:7EFiV7c4OxsabTEve1J2YX'}, {'album': {'album_type': 'single', 'artists': [{'external_urls': {'spotify': 'https://open.spotify.com/artist/3gIRvgZssIb9aiirIg0nI3'}, 'href': 'https://api.spotify.com/v1/artists/3gIRvgZssIb9aiirIg0nI3', 'id': '3gIRvgZssIb9aiirIg0nI3', 'name': 'Jeremy Zucker', 'type': 'artist', 'uri': 'spotify:artist:3gIRvgZssIb9aiirIg0nI3'}], 'available_markets': ['AR', 'AU', 'AT', 'BE', 'BO', 'BR', 'BG', 'CA', 'CL', 'CO', 'CR', 'CY', 'CZ', 'DK', 'DO', 'DE', 'EC', 'EE', 'SV', 'FI', 'FR', 'GR', 'GT', 'HN', 'HK', 'HU', 'IS', 'IE', 'IT', 'LV', 'LT', 'LU', 'MY', 'MT', 'MX', 'NL', 'NZ', 'NI', 'NO', 'PA', 'PY', 'PE', 'PH', 'PL', 'PT', 'SG', 'SK', 'ES', 'SE', 'CH', 'TW', 'TR', 'UY', 'US', 'GB', 'AD', 'LI', 'MC', 'ID', 'JP', 'TH', 'VN', 'RO', 'IL', 'ZA', 'SA', 'AE', 'BH', 'QA', 'OM', 'KW', 'EG', 'MA', 'DZ', 'TN', 'LB', 'JO', 'PS', 'IN', 'KZ', 'MD', 'UA', 'AL', 'BA', 'HR', 'ME', 'MK', 'RS', 'SI', 'KR', 'BD', 'PK', 'LK', 'GH', 'KE', 'NG', 'TZ', 'UG', 'AG', 'AM', 'BS', 'BB', 'BZ', 'BT', 'BW', 'CV', 'CW', 'DM', 'FJ', 'GM', 'GE', 'GD', 'GW', 'GY', 'HT', 'JM', 'KI', 'LS', 'LR', 'MW', 'MV', 'ML', 'MH', 'FM', 'NA', 'NR', 'NE', 'PW', 'PG', 'WS', 'SM', 'ST', 'SN', 'SC', 'SL', 'SB', 'KN', 'LC', 'VC', 'SR', 'TL', 'TO', 'TT', 'TV', 'VU', 'AZ', 'BI', 'KH', 'CM', 'TD', 'KM', 'GQ', 'SZ', 'GA', 'GN', 'KG', 'LA', 'MO', 'MR', 'MN', 'RW', 'TG', 'ZW', 'BJ', 'MG', 'MU', 'MZ', 'AO', 'CI', 'DJ', 'ZM', 'CD', 'CG', 'IQ', 'LY', 'TJ', 'VE', 'ET', 'XK'], 'external_urls': {'spotify': 'https://open.spotify.com/album/6Whp0T7d1SAt4gDUNkWWD1'}, 'href': 'https://api.spotify.com/v1/albums/6Whp0T7d1SAt4gDUNkWWD1', 'id': '6Whp0T7d1SAt4gDUNkWWD1', 'images': [{'height': 640, 'url': 'https://i.scdn.co/image/ab67616d0000b273cb16227d90152c2a5022bba1', 'width': 640}, {'height': 300, 'url': 'https://i.scdn.co/image/ab67616d00001e02cb16227d90152c2a5022bba1', 'width': 300}, {'height': 64, 'url': 'https://i.scdn.co/image/ab67616d00004851cb16227d90152c2a5022bba1', 'width': 64}], 'name': 'summer,', 'release_date': '2018-09-28', 'release_date_precision': 'day', 'total_tracks': 5, 'type': 'album', 'uri': 'spotify:album:6Whp0T7d1SAt4gDUNkWWD1'}, 'artists': [{'external_urls': {'spotify': 'https://open.spotify.com/artist/3gIRvgZssIb9aiirIg0nI3'}, 'href': 'https://api.spotify.com/v1/artists/3gIRvgZssIb9aiirIg0nI3', 'id': '3gIRvgZssIb9aiirIg0nI3', 'name': 'Jeremy Zucker', 'type': 'artist', 'uri': 'spotify:artist:3gIRvgZssIb9aiirIg0nI3'}], 'available_markets': ['AR', 'AU', 'AT', 'BE', 'BO', 'BR', 'BG', 'CA', 'CL', 'CO', 'CR', 'CY', 'CZ', 'DK', 'DO', 'DE', 'EC', 'EE', 'SV', 'FI', 'FR', 'GR', 'GT', 'HN', 'HK', 'HU', 'IS', 'IE', 'IT', 'LV', 'LT', 'LU', 'MY', 'MT', 'MX', 'NL', 'NZ', 'NI', 'NO', 'PA', 'PY', 'PE', 'PH', 'PL', 'PT', 'SG', 'SK', 'ES', 'SE', 'CH', 'TW', 'TR', 'UY', 'US', 'GB', 'AD', 'LI', 'MC', 'ID', 'JP', 'TH', 'VN', 'RO', 'IL', 'ZA', 'SA', 'AE', 'BH', 'QA', 'OM', 'KW', 'EG', 'MA', 'DZ', 'TN', 'LB', 'JO', 'PS', 'IN', 'KZ', 'MD', 'UA', 'AL', 'BA', 'HR', 'ME', 'MK', 'RS', 'SI', 'KR', 'BD', 'PK', 'LK', 'GH', 'KE', 'NG', 'TZ', 'UG', 'AG', 'AM', 'BS', 'BB', 'BZ', 'BT', 'BW', 'CV', 'CW', 'DM', 'FJ', 'GM', 'GE', 'GD', 'GW', 'GY', 'HT', 'JM', 'KI', 'LS', 'LR', 'MW', 'MV', 'ML', 'MH', 'FM', 'NA', 'NR', 'NE', 'PW', 'PG', 'WS', 'SM', 'ST', 'SN', 'SC', 'SL', 'SB', 'KN', 'LC', 'VC', 'SR', 'TL', 'TO', 'TT', 'TV', 'VU', 'AZ', 'BI', 'KH', 'CM', 'TD', 'KM', 'GQ', 'SZ', 'GA', 'GN', 'KG', 'LA', 'MO', 'MR', 'MN', 'RW', 'TG', 'ZW', 'BJ', 'MG', 'MU', 'MZ', 'AO', 'CI', 'DJ', 'ZM', 'CD', 'CG', 'IQ', 'LY', 'TJ', 'VE', 'ET', 'XK'], 'disc_number': 1, 'duration_ms': 181613, 'explicit': False, 'external_ids': {'isrc': 'USUM71813455'}, 'external_urls': {'spotify': 'https://open.spotify.com/track/18uwL0vNUanqZH0ro2QcOP'}, 'href': 'https://api.spotify.com/v1/tracks/18uwL0vNUanqZH0ro2QcOP', 'id': '18uwL0vNUanqZH0ro2QcOP', 'is_local': False, 'name': 'comethru', 'popularity': 79, 'preview_url': None, 'track_number': 1, 'type': 'track', 'uri': 'spotify:track:18uwL0vNUanqZH0ro2QcOP'}, {'album': {'album_type': 'single', 'artists': [{'external_urls': {'spotify': 'https://open.spotify.com/artist/4aWERTpHN8Z4OEtq9hcLR9'}, 'href': 'https://api.spotify.com/v1/artists/4aWERTpHN8Z4OEtq9hcLR9', 'id': '4aWERTpHN8Z4OEtq9hcLR9', 'name': '唐貓 SUGARCAT', 'type': 'artist', 'uri': 'spotify:artist:4aWERTpHN8Z4OEtq9hcLR9'}], 'available_markets': ['AR', 'AU', 'AT', 'BE', 'BO', 'BR', 'BG', 'CA', 'CL', 'CO', 'CR', 'CY', 'CZ', 'DK', 'DO', 'DE', 'EC', 'EE', 'SV', 'FI', 'FR', 'GR', 'GT', 'HN', 'HK', 'HU', 'IS', 'IE', 'IT', 'LV', 'LT', 'LU', 'MY', 'MT', 'MX', 'NL', 'NZ', 'NI', 'NO', 'PA', 'PY', 'PE', 'PH', 'PL', 'PT', 'SG', 'SK', 'ES', 'SE', 'CH', 'TW', 'TR', 'UY', 'US', 'GB', 'AD', 'LI', 'MC', 'ID', 'JP', 'TH', 'VN', 'RO', 'IL', 'ZA', 'SA', 'AE', 'BH', 'QA', 'OM', 'KW', 'EG', 'MA', 'DZ', 'TN', 'LB', 'JO', 'PS', 'IN', 'BY', 'KZ', 'MD', 'UA', 'AL', 'BA', 'HR', 'ME', 'MK', 'RS', 'SI', 'KR', 'BD', 'PK', 'LK', 'GH', 'KE', 'NG', 'TZ', 'UG', 'AG', 'AM', 'BS', 'BB', 'BZ', 'BT', 'BW', 'BF', 'CV', 'CW', 'DM', 'FJ', 'GM', 'GE', 'GD', 'GW', 'GY', 'HT', 'JM', 'KI', 'LS', 'LR', 'MW', 'MV', 'ML', 'MH', 'FM', 'NA', 'NR', 'NE', 'PW', 'PG', 'WS', 'SM', 'ST', 'SN', 'SC', 'SL', 'SB', 'KN', 'LC', 'VC', 'SR', 'TL', 'TO', 'TT', 'TV', 'VU', 'AZ', 'BN', 'BI', 'KH', 'CM', 'TD', 'KM', 'GQ', 'SZ', 'GA', 'GN', 'KG', 'LA', 'MO', 'MR', 'MN', 'NP', 'RW', 'TG', 'UZ', 'ZW', 'BJ', 'MG', 'MU', 'MZ', 'AO', 'CI', 'DJ', 'ZM', 'CD', 'CG', 'IQ', 'LY', 'TJ', 'VE', 'ET', 'XK'], 'external_urls': {'spotify': 'https://open.spotify.com/album/5df0AO6gNJBe5KvX4C3tKw'}, 'href': 'https://api.spotify.com/v1/albums/5df0AO6gNJBe5KvX4C3tKw', 'id': '5df0AO6gNJBe5KvX4C3tKw', 'images': [{'height': 640, 'url': 'https://i.scdn.co/image/ab67616d0000b27349fd4879eb8f370b5ae727c7', 'width': 640}, {'height': 300, 'url': 'https://i.scdn.co/image/ab67616d00001e0249fd4879eb8f370b5ae727c7', 'width': 300}, {'height': 64, 'url': 'https://i.scdn.co/image/ab67616d0000485149fd4879eb8f370b5ae727c7', 'width': 64}], 'name': '晴天雨天', 'release_date': '2018-12-21', 'release_date_precision': 'day', 'total_tracks': 1, 'type': 'album', 'uri': 'spotify:album:5df0AO6gNJBe5KvX4C3tKw'}, 'artists': [{'external_urls': {'spotify': 'https://open.spotify.com/artist/4aWERTpHN8Z4OEtq9hcLR9'}, 'href': 'https://api.spotify.com/v1/artists/4aWERTpHN8Z4OEtq9hcLR9', 'id': '4aWERTpHN8Z4OEtq9hcLR9', 'name': '唐貓 SUGARCAT', 'type': 'artist', 'uri': 'spotify:artist:4aWERTpHN8Z4OEtq9hcLR9'}], 'available_markets': ['AR', 'AU', 'AT', 'BE', 'BO', 'BR', 'BG', 'CA', 'CL', 'CO', 'CR', 'CY', 'CZ', 'DK', 'DO', 'DE', 'EC', 'EE', 'SV', 'FI', 'FR', 'GR', 'GT', 'HN', 'HK', 'HU', 'IS', 'IE', 'IT', 'LV', 'LT', 'LU', 'MY', 'MT', 'MX', 'NL', 'NZ', 'NI', 'NO', 'PA', 'PY', 'PE', 'PH', 'PL', 'PT', 'SG', 'SK', 'ES', 'SE', 'CH', 'TW', 'TR', 'UY', 'US', 'GB', 'AD', 'LI', 'MC', 'ID', 'JP', 'TH', 'VN', 'RO', 'IL', 'ZA', 'SA', 'AE', 'BH', 'QA', 'OM', 'KW', 'EG', 'MA', 'DZ', 'TN', 'LB', 'JO', 'PS', 'IN', 'BY', 'KZ', 'MD', 'UA', 'AL', 'BA', 'HR', 'ME', 'MK', 'RS', 'SI', 'KR', 'BD', 'PK', 'LK', 'GH', 'KE', 'NG', 'TZ', 'UG', 'AG', 'AM', 'BS', 'BB', 'BZ', 'BT', 'BW', 'BF', 'CV', 'CW', 'DM', 'FJ', 'GM', 'GE', 'GD', 'GW', 'GY', 'HT', 'JM', 'KI', 'LS', 'LR', 'MW', 'MV', 'ML', 'MH', 'FM', 'NA', 'NR', 'NE', 'PW', 'PG', 'WS', 'SM', 'ST', 'SN', 'SC', 'SL', 'SB', 'KN', 'LC', 'VC', 'SR', 'TL', 'TO', 'TT', 'TV', 'VU', 'AZ', 'BN', 'BI', 'KH', 'CM', 'TD', 'KM', 'GQ', 'SZ', 'GA', 'GN', 'KG', 'LA', 'MO', 'MR', 'MN', 'NP', 'RW', 'TG', 'UZ', 'ZW', 'BJ', 'MG', 'MU', 'MZ', 'AO', 'CI', 'DJ', 'ZM', 'CD', 'CG', 'IQ', 'LY', 'TJ', 'VE', 'ET', 'XK'], 'disc_number': 1, 'duration_ms': 227560, 'explicit': False, 'external_ids': {'isrc': 'CNZ681800158'}, 'external_urls': {'spotify': 'https://open.spotify.com/track/1AzQjh998Ha3YKhVsUMnd5'}, 'href': 'https://api.spotify.com/v1/tracks/1AzQjh998Ha3YKhVsUMnd5', 'id': '1AzQjh998Ha3YKhVsUMnd5', 'is_local': False, 'name': '晴天雨天', 'popularity': 49, 'preview_url': 'https://p.scdn.co/mp3-preview/acfae4052cc7e908a2489931e91dc04e33d8f47f?cid=95b6078c108c4d188b53695335665c54', 'track_number': 1, 'type': 'track', 'uri': 'spotify:track:1AzQjh998Ha3YKhVsUMnd5'}, {'album': {'album_type': 'single', 'artists': [{'external_urls': {'spotify': 'https://open.spotify.com/artist/6v6qfXRvTRGGsmGfDvtMIK'}, 'href': 'https://api.spotify.com/v1/artists/6v6qfXRvTRGGsmGfDvtMIK', 'id': '6v6qfXRvTRGGsmGfDvtMIK', 'name': 'Karencici', 'type': 'artist', 'uri': 'spotify:artist:6v6qfXRvTRGGsmGfDvtMIK'}], 'available_markets': ['HK', 'MO', 'TW'], 'external_urls': {'spotify': 'https://open.spotify.com/album/4NCyhZpzN5gAvuuVnDpRTT'}, 'href': 'https://api.spotify.com/v1/albums/4NCyhZpzN5gAvuuVnDpRTT', 'id': '4NCyhZpzN5gAvuuVnDpRTT', 'images': [{'height': 640, 'url': 'https://i.scdn.co/image/ab67616d0000b273ceb7a497e4aca9afdc3a23ca', 'width': 640}, {'height': 300, 'url': 'https://i.scdn.co/image/ab67616d00001e02ceb7a497e4aca9afdc3a23ca', 'width': 300}, {'height': 64, 'url': 'https://i.scdn.co/image/ab67616d00004851ceb7a497e4aca9afdc3a23ca', 'width': 64}], 'name': 'Bad Girls Behave', 'release_date': '2023-10-06', 'release_date_precision': 'day', 'total_tracks': 1, 'type': 'album', 'uri': 'spotify:album:4NCyhZpzN5gAvuuVnDpRTT'}, 'artists': [{'external_urls': {'spotify': 'https://open.spotify.com/artist/6v6qfXRvTRGGsmGfDvtMIK'}, 'href': 'https://api.spotify.com/v1/artists/6v6qfXRvTRGGsmGfDvtMIK', 'id': '6v6qfXRvTRGGsmGfDvtMIK', 'name': 'Karencici', 'type': 'artist', 'uri': 'spotify:artist:6v6qfXRvTRGGsmGfDvtMIK'}], 'available_markets': ['HK', 'MO', 'TW'], 'disc_number': 1, 'duration_ms': 170007, 'explicit': True, 'external_ids': {'isrc': 'TWD952391101'}, 'external_urls': {'spotify': 'https://open.spotify.com/track/0xPwQnlwiZM1StSik1g4a4'}, 'href': 'https://api.spotify.com/v1/tracks/0xPwQnlwiZM1StSik1g4a4', 'id': '0xPwQnlwiZM1StSik1g4a4', 'is_local': False, 'name': 'Bad Girls Behave', 'popularity': 46, 'preview_url': 'https://p.scdn.co/mp3-preview/1389da624bf5802fe8ab62d1ae0806e682931d07?cid=95b6078c108c4d188b53695335665c54', 'track_number': 1, 'type': 'track', 'uri': 'spotify:track:0xPwQnlwiZM1StSik1g4a4'}, {'album': {'album_type': 'album', 'artists': [{'external_urls': {'spotify': 'https://open.spotify.com/artist/7pSH4sO2lXAxFKF6MkwORv'}, 'href': 'https://api.spotify.com/v1/artists/7pSH4sO2lXAxFKF6MkwORv', 'id': '7pSH4sO2lXAxFKF6MkwORv', 'name': 'Julia Wu', 'type': 'artist', 'uri': 'spotify:artist:7pSH4sO2lXAxFKF6MkwORv'}], 'available_markets': ['AR', 'AU', 'AT', 'BE', 'BO', 'BR', 'BG', 'CA', 'CL', 'CO', 'CR', 'CY', 'CZ', 'DK', 'DO', 'DE', 'EC', 'EE', 'SV', 'FI', 'FR', 'GR', 'GT', 'HN', 'HK', 'HU', 'IS', 'IE', 'IT', 'LV', 'LT', 'LU', 'MY', 'MT', 'MX', 'NL', 'NZ', 'NI', 'NO', 'PA', 'PY', 'PE', 'PH', 'PL', 'PT', 'SG', 'SK', 'ES', 'SE', 'CH', 'TW', 'TR', 'UY', 'US', 'GB', 'AD', 'LI', 'MC', 'ID', 'JP', 'TH', 'VN', 'RO', 'IL', 'ZA', 'SA', 'AE', 'BH', 'QA', 'OM', 'KW', 'EG', 'MA', 'DZ', 'TN', 'LB', 'JO', 'PS', 'IN', 'BY', 'KZ', 'MD', 'UA', 'AL', 'BA', 'HR', 'ME', 'MK', 'RS', 'SI', 'KR', 'BD', 'PK', 'LK', 'GH', 'KE', 'NG', 'TZ', 'UG', 'AG', 'AM', 'BS', 'BB', 'BZ', 'BT', 'BW', 'BF', 'CV', 'CW', 'DM', 'FJ', 'GM', 'GE', 'GD', 'GW', 'GY', 'HT', 'JM', 'KI', 'LS', 'LR', 'MW', 'MV', 'ML', 'MH', 'FM', 'NA', 'NR', 'NE', 'PW', 'PG', 'WS', 'SM', 'ST', 'SN', 'SC', 'SL', 'SB', 'KN', 'LC', 'VC', 'SR', 'TL', 'TO', 'TT', 'TV', 'VU', 'AZ', 'BN', 'BI', 'KH', 'CM', 'TD', 'KM', 'GQ', 'SZ', 'GA', 'GN', 'KG', 'LA', 'MO', 'MR', 'MN', 'NP', 'RW', 'TG', 'UZ', 'ZW', 'BJ', 'MG', 'MU', 'MZ', 'AO', 'CI', 'DJ', 'ZM', 'CD', 'CG', 'IQ', 'LY', 'TJ', 'VE', 'ET', 'XK'], 'external_urls': {'spotify': 'https://open.spotify.com/album/39MCCipCiuLjzl76bY7NmU'}, 'href': 'https://api.spotify.com/v1/albums/39MCCipCiuLjzl76bY7NmU', 'id': '39MCCipCiuLjzl76bY7NmU', 'images': [{'height': 640, 'url': 'https://i.scdn.co/image/ab67616d0000b273b9e0ebb29fec9bf01e4b0dae', 'width': 640}, {'height': 300, 'url': 'https://i.scdn.co/image/ab67616d00001e02b9e0ebb29fec9bf01e4b0dae', 'width': 300}, {'height': 64, 'url': 'https://i.scdn.co/image/ab67616d00004851b9e0ebb29fec9bf01e4b0dae', 'width': 64}], 'name': '1:28 (Original)', 'release_date': '2017-09-07', 'release_date_precision': 'day', 'total_tracks': 10, 'type': 'album', 'uri': 'spotify:album:39MCCipCiuLjzl76bY7NmU'}, 'artists': [{'external_urls': {'spotify': 'https://open.spotify.com/artist/7pSH4sO2lXAxFKF6MkwORv'}, 'href': 'https://api.spotify.com/v1/artists/7pSH4sO2lXAxFKF6MkwORv', 'id': '7pSH4sO2lXAxFKF6MkwORv', 'name': 'Julia Wu', 'type': 'artist', 'uri': 'spotify:artist:7pSH4sO2lXAxFKF6MkwORv'}], 'available_markets': ['AR', 'AU', 'AT', 'BE', 'BO', 'BR', 'BG', 'CA', 'CL', 'CO', 'CR', 'CY', 'CZ', 'DK', 'DO', 'DE', 'EC', 'EE', 'SV', 'FI', 'FR', 'GR', 'GT', 'HN', 'HK', 'HU', 'IS', 'IE', 'IT', 'LV', 'LT', 'LU', 'MY', 'MT', 'MX', 'NL', 'NZ', 'NI', 'NO', 'PA', 'PY', 'PE', 'PH', 'PL', 'PT', 'SG', 'SK', 'ES', 'SE', 'CH', 'TW', 'TR', 'UY', 'US', 'GB', 'AD', 'LI', 'MC', 'ID', 'JP', 'TH', 'VN', 'RO', 'IL', 'ZA', 'SA', 'AE', 'BH', 'QA', 'OM', 'KW', 'EG', 'MA', 'DZ', 'TN', 'LB', 'JO', 'PS', 'IN', 'BY', 'KZ', 'MD', 'UA', 'AL', 'BA', 'HR', 'ME', 'MK', 'RS', 'SI', 'KR', 'BD', 'PK', 'LK', 'GH', 'KE', 'NG', 'TZ', 'UG', 'AG', 'AM', 'BS', 'BB', 'BZ', 'BT', 'BW', 'BF', 'CV', 'CW', 'DM', 'FJ', 'GM', 'GE', 'GD', 'GW', 'GY', 'HT', 'JM', 'KI', 'LS', 'LR', 'MW', 'MV', 'ML', 'MH', 'FM', 'NA', 'NR', 'NE', 'PW', 'PG', 'WS', 'SM', 'ST', 'SN', 'SC', 'SL', 'SB', 'KN', 'LC', 'VC', 'SR', 'TL', 'TO', 'TT', 'TV', 'VU', 'AZ', 'BN', 'BI', 'KH', 'CM', 'TD', 'KM', 'GQ', 'SZ', 'GA', 'GN', 'KG', 'LA', 'MO', 'MR', 'MN', 'NP', 'RW', 'TG', 'UZ', 'ZW', 'BJ', 'MG', 'MU', 'MZ', 'AO', 'CI', 'DJ', 'ZM', 'CD', 'CG', 'IQ', 'LY', 'TJ', 'VE', 'ET', 'XK'], 'disc_number': 1, 'duration_ms': 268350, 'explicit': False, 'external_ids': {'isrc': 'TWCC31700177'}, 'external_urls': {'spotify': 'https://open.spotify.com/track/0FIRHGE4loKAH5o5ByiqG0'}, 'href': 'https://api.spotify.com/v1/tracks/0FIRHGE4loKAH5o5ByiqG0', 'id': '0FIRHGE4loKAH5o5ByiqG0', 'is_local': False, 'name': '你是不是有點動心 - Original', 'popularity': 52, 'preview_url': 'https://p.scdn.co/mp3-preview/fde08583b70e9af7206fc9bfe35dfbfdfbcae612?cid=95b6078c108c4d188b53695335665c54', 'track_number': 7, 'type': 'track', 'uri': 'spotify:track:0FIRHGE4loKAH5o5ByiqG0'}, {'album': {'album_type': 'single', 'artists': [{'external_urls': {'spotify': 'https://open.spotify.com/artist/6v6qfXRvTRGGsmGfDvtMIK'}, 'href': 'https://api.spotify.com/v1/artists/6v6qfXRvTRGGsmGfDvtMIK', 'id': '6v6qfXRvTRGGsmGfDvtMIK', 'name': 'Karencici', 'type': 'artist', 'uri': 'spotify:artist:6v6qfXRvTRGGsmGfDvtMIK'}], 'available_markets': ['HK', 'MO', 'TW'], 'external_urls': {'spotify': 'https://open.spotify.com/album/0hf59ioRTd8a7NRbGbgaP8'}, 'href': 'https://api.spotify.com/v1/albums/0hf59ioRTd8a7NRbGbgaP8', 'id': '0hf59ioRTd8a7NRbGbgaP8', 'images': [{'height': 640, 'url': 'https://i.scdn.co/image/ab67616d0000b27374ef2a232d25d8a021e20608', 'width': 640}, {'height': 300, 'url': 'https://i.scdn.co/image/ab67616d00001e0274ef2a232d25d8a021e20608', 'width': 300}, {'height': 64, 'url': 'https://i.scdn.co/image/ab67616d0000485174ef2a232d25d8a021e20608', 'width': 64}], 'name': 'ihateyou1000', 'release_date': '2020-06-09', 'release_date_precision': 'day', 'total_tracks': 1, 'type': 'album', 'uri': 'spotify:album:0hf59ioRTd8a7NRbGbgaP8'}, 'artists': [{'external_urls': {'spotify': 'https://open.spotify.com/artist/6v6qfXRvTRGGsmGfDvtMIK'}, 'href': 'https://api.spotify.com/v1/artists/6v6qfXRvTRGGsmGfDvtMIK', 'id': '6v6qfXRvTRGGsmGfDvtMIK', 'name': 'Karencici', 'type': 'artist', 'uri': 'spotify:artist:6v6qfXRvTRGGsmGfDvtMIK'}], 'available_markets': ['HK', 'MO', 'TW'], 'disc_number': 1, 'duration_ms': 118250, 'explicit': False, 'external_ids': {'isrc': 'TWD952091101'}, 'external_urls': {'spotify': 'https://open.spotify.com/track/5yx4ZfQONmg45xGdZvIOpL'}, 'href': 'https://api.spotify.com/v1/tracks/5yx4ZfQONmg45xGdZvIOpL', 'id': '5yx4ZfQONmg45xGdZvIOpL', 'is_local': False, 'name': 'ihateyou1000', 'popularity': 46, 'preview_url': 'https://p.scdn.co/mp3-preview/862ca79a75a39d0f9ea23332c70da6963e8489ad?cid=95b6078c108c4d188b53695335665c54', 'track_number': 1, 'type': 'track', 'uri': 'spotify:track:5yx4ZfQONmg45xGdZvIOpL'}, {'album': {'album_type': 'single', 'artists': [{'external_urls': {'spotify': 'https://open.spotify.com/artist/7eCmccnRwPmRnWPw61x6jM'}, 'href': 'https://api.spotify.com/v1/artists/7eCmccnRwPmRnWPw61x6jM', 'id': '7eCmccnRwPmRnWPw61x6jM', 'name': 'shy martin', 'type': 'artist', 'uri': 'spotify:artist:7eCmccnRwPmRnWPw61x6jM'}], 'available_markets': ['AR', 'AU', 'AT', 'BE', 'BO', 'BR', 'BG', 'CA', 'CL', 'CO', 'CR', 'CY', 'CZ', 'DK', 'DO', 'DE', 'EC', 'EE', 'SV', 'FI', 'FR', 'GR', 'GT', 'HN', 'HK', 'HU', 'IS', 'IE', 'IT', 'LV', 'LT', 'LU', 'MY', 'MT', 'MX', 'NL', 'NZ', 'NI', 'NO', 'PA', 'PY', 'PE', 'PH', 'PL', 'PT', 'SG', 'SK', 'ES', 'SE', 'CH', 'TW', 'TR', 'UY', 'US', 'GB', 'AD', 'LI', 'MC', 'ID', 'JP', 'TH', 'VN', 'RO', 'IL', 'ZA', 'SA', 'AE', 'BH', 'QA', 'OM', 'KW', 'EG', 'MA', 'DZ', 'TN', 'LB', 'JO', 'PS', 'IN', 'BY', 'KZ', 'MD', 'UA', 'AL', 'BA', 'HR', 'ME', 'MK', 'RS', 'SI', 'KR', 'BD', 'PK', 'LK', 'GH', 'KE', 'NG', 'TZ', 'UG', 'AG', 'AM', 'BS', 'BB', 'BZ', 'BT', 'BW', 'BF', 'CV', 'CW', 'DM', 'FJ', 'GM', 'GE', 'GD', 'GW', 'GY', 'HT', 'JM', 'KI', 'LS', 'LR', 'MW', 'MV', 'ML', 'MH', 'FM', 'NA', 'NR', 'NE', 'PW', 'PG', 'WS', 'SM', 'ST', 'SN', 'SC', 'SL', 'SB', 'KN', 'LC', 'VC', 'SR', 'TL', 'TO', 'TT', 'TV', 'VU', 'AZ', 'BN', 'BI', 'KH', 'CM', 'TD', 'KM', 'GQ', 'SZ', 'GA', 'GN', 'KG', 'LA', 'MO', 'MR', 'MN', 'NP', 'RW', 'TG', 'UZ', 'ZW', 'BJ', 'MG', 'MU', 'MZ', 'AO', 'CI', 'DJ', 'ZM', 'CD', 'CG', 'IQ', 'LY', 'TJ', 'VE', 'ET', 'XK'], 'external_urls': {'spotify': 'https://open.spotify.com/album/71sb3x5BwKk87d7ZBOoSJY'}, 'href': 'https://api.spotify.com/v1/albums/71sb3x5BwKk87d7ZBOoSJY', 'id': '71sb3x5BwKk87d7ZBOoSJY', 'images': [{'height': 640, 'url': 'https://i.scdn.co/image/ab67616d0000b273f047039273f69d31b3208fa4', 'width': 640}, {'height': 300, 'url': 'https://i.scdn.co/image/ab67616d00001e02f047039273f69d31b3208fa4', 'width': 300}, {'height': 64, 'url': 'https://i.scdn.co/image/ab67616d00004851f047039273f69d31b3208fa4', 'width': 64}], 'name': 'Sad Songs', 'release_date': '2020-08-07', 'release_date_precision': 'day', 'total_tracks': 5, 'type': 'album', 'uri': 'spotify:album:71sb3x5BwKk87d7ZBOoSJY'}, 'artists': [{'external_urls': {'spotify': 'https://open.spotify.com/artist/7eCmccnRwPmRnWPw61x6jM'}, 'href': 'https://api.spotify.com/v1/artists/7eCmccnRwPmRnWPw61x6jM', 'id': '7eCmccnRwPmRnWPw61x6jM', 'name': 'shy martin', 'type': 'artist', 'uri': 'spotify:artist:7eCmccnRwPmRnWPw61x6jM'}], 'available_markets': ['AR', 'AU', 'AT', 'BE', 'BO', 'BR', 'BG', 'CA', 'CL', 'CO', 'CR', 'CY', 'CZ', 'DK', 'DO', 'DE', 'EC', 'EE', 'SV', 'FI', 'FR', 'GR', 'GT', 'HN', 'HK', 'HU', 'IS', 'IE', 'IT', 'LV', 'LT', 'LU', 'MY', 'MT', 'MX', 'NL', 'NZ', 'NI', 'NO', 'PA', 'PY', 'PE', 'PH', 'PL', 'PT', 'SG', 'SK', 'ES', 'SE', 'CH', 'TW', 'TR', 'UY', 'US', 'GB', 'AD', 'LI', 'MC', 'ID', 'JP', 'TH', 'VN', 'RO', 'IL', 'ZA', 'SA', 'AE', 'BH', 'QA', 'OM', 'KW', 'EG', 'MA', 'DZ', 'TN', 'LB', 'JO', 'PS', 'IN', 'BY', 'KZ', 'MD', 'UA', 'AL', 'BA', 'HR', 'ME', 'MK', 'RS', 'SI', 'KR', 'BD', 'PK', 'LK', 'GH', 'KE', 'NG', 'TZ', 'UG', 'AG', 'AM', 'BS', 'BB', 'BZ', 'BT', 'BW', 'BF', 'CV', 'CW', 'DM', 'FJ', 'GM', 'GE', 'GD', 'GW', 'GY', 'HT', 'JM', 'KI', 'LS', 'LR', 'MW', 'MV', 'ML', 'MH', 'FM', 'NA', 'NR', 'NE', 'PW', 'PG', 'WS', 'SM', 'ST', 'SN', 'SC', 'SL', 'SB', 'KN', 'LC', 'VC', 'SR', 'TL', 'TO', 'TT', 'TV', 'VU', 'AZ', 'BN', 'BI', 'KH', 'CM', 'TD', 'KM', 'GQ', 'SZ', 'GA', 'GN', 'KG', 'LA', 'MO', 'MR', 'MN', 'NP', 'RW', 'TG', 'UZ', 'ZW', 'BJ', 'MG', 'MU', 'MZ', 'AO', 'CI', 'DJ', 'ZM', 'CD', 'CG', 'IQ', 'LY', 'TJ', 'VE', 'ET', 'XK'], 'disc_number': 1, 'duration_ms': 157555, 'explicit': False, 'external_ids': {'isrc': 'SE5262000113'}, 'external_urls': {'spotify': 'https://open.spotify.com/track/6s86N7LVaJZuU4alwKp6XO'}, 'href': 'https://api.spotify.com/v1/tracks/6s86N7LVaJZuU4alwKp6XO', 'id': '6s86N7LVaJZuU4alwKp6XO', 'is_local': False, 'name': 'Are you happy?', 'popularity': 63, 'preview_url': 'https://p.scdn.co/mp3-preview/951ff04502f0076f87aa78685be545e2bf1915eb?cid=95b6078c108c4d188b53695335665c54', 'track_number': 5, 'type': 'track', 'uri': 'spotify:track:6s86N7LVaJZuU4alwKp6XO'}, {'album': {'album_type': 'album', 'artists': [{'external_urls': {'spotify': 'https://open.spotify.com/artist/4aWERTpHN8Z4OEtq9hcLR9'}, 'href': 'https://api.spotify.com/v1/artists/4aWERTpHN8Z4OEtq9hcLR9', 'id': '4aWERTpHN8Z4OEtq9hcLR9', 'name': '唐貓 SUGARCAT', 'type': 'artist', 'uri': 'spotify:artist:4aWERTpHN8Z4OEtq9hcLR9'}], 'available_markets': ['AR', 'AU', 'AT', 'BE', 'BO', 'BR', 'BG', 'CA', 'CL', 'CO', 'CR', 'CY', 'CZ', 'DK', 'DO', 'DE', 'EC', 'EE', 'SV', 'FI', 'FR', 'GR', 'GT', 'HN', 'HK', 'HU', 'IS', 'IE', 'IT', 'LV', 'LT', 'LU', 'MY', 'MT', 'MX', 'NL', 'NZ', 'NI', 'NO', 'PA', 'PY', 'PE', 'PH', 'PL', 'PT', 'SG', 'SK', 'ES', 'SE', 'CH', 'TW', 'TR', 'UY', 'US', 'GB', 'AD', 'LI', 'MC', 'ID', 'JP', 'TH', 'VN', 'RO', 'IL', 'ZA', 'SA', 'AE', 'BH', 'QA', 'OM', 'KW', 'EG', 'MA', 'DZ', 'TN', 'LB', 'JO', 'PS', 'IN', 'BY', 'KZ', 'MD', 'UA', 'AL', 'BA', 'HR', 'ME', 'MK', 'RS', 'SI', 'KR', 'BD', 'PK', 'LK', 'GH', 'KE', 'NG', 'TZ', 'UG', 'AG', 'AM', 'BS', 'BB', 'BZ', 'BT', 'BW', 'BF', 'CV', 'CW', 'DM', 'FJ', 'GM', 'GE', 'GD', 'GW', 'GY', 'HT', 'JM', 'KI', 'LS', 'LR', 'MW', 'MV', 'ML', 'MH', 'FM', 'NA', 'NR', 'NE', 'PW', 'PG', 'WS', 'SM', 'ST', 'SN', 'SC', 'SL', 'SB', 'KN', 'LC', 'VC', 'SR', 'TL', 'TO', 'TT', 'TV', 'VU', 'AZ', 'BN', 'BI', 'KH', 'CM', 'TD', 'KM', 'GQ', 'SZ', 'GA', 'GN', 'KG', 'LA', 'MO', 'MR', 'MN', 'NP', 'RW', 'TG', 'UZ', 'ZW', 'BJ', 'MG', 'MU', 'MZ', 'AO', 'CI', 'DJ', 'ZM', 'CD', 'CG', 'IQ', 'LY', 'TJ', 'VE', 'ET', 'XK'], 'external_urls': {'spotify': 'https://open.spotify.com/album/2IlKFyYScQyFd5RovZgM7b'}, 'href': 'https://api.spotify.com/v1/albums/2IlKFyYScQyFd5RovZgM7b', 'id': '2IlKFyYScQyFd5RovZgM7b', 'images': [{'height': 640, 'url': 'https://i.scdn.co/image/ab67616d0000b2731bd0582aedae58758c19e86c', 'width': 640}, {'height': 300, 'url': 'https://i.scdn.co/image/ab67616d00001e021bd0582aedae58758c19e86c', 'width': 300}, {'height': 64, 'url': 'https://i.scdn.co/image/ab67616d000048511bd0582aedae58758c19e86c', 'width': 64}], 'name': '唐貓SUGARCAT', 'release_date': '2019-06-03', 'release_date_precision': 'day', 'total_tracks': 11, 'type': 'album', 'uri': 'spotify:album:2IlKFyYScQyFd5RovZgM7b'}, 'artists': [{'external_urls': {'spotify': 'https://open.spotify.com/artist/4aWERTpHN8Z4OEtq9hcLR9'}, 'href': 'https://api.spotify.com/v1/artists/4aWERTpHN8Z4OEtq9hcLR9', 'id': '4aWERTpHN8Z4OEtq9hcLR9', 'name': '唐貓 SUGARCAT', 'type': 'artist', 'uri': 'spotify:artist:4aWERTpHN8Z4OEtq9hcLR9'}], 'available_markets': ['AR', 'AU', 'AT', 'BE', 'BO', 'BR', 'BG', 'CA', 'CL', 'CO', 'CR', 'CY', 'CZ', 'DK', 'DO', 'DE', 'EC', 'EE', 'SV', 'FI', 'FR', 'GR', 'GT', 'HN', 'HK', 'HU', 'IS', 'IE', 'IT', 'LV', 'LT', 'LU', 'MY', 'MT', 'MX', 'NL', 'NZ', 'NI', 'NO', 'PA', 'PY', 'PE', 'PH', 'PL', 'PT', 'SG', 'SK', 'ES', 'SE', 'CH', 'TW', 'TR', 'UY', 'US', 'GB', 'AD', 'LI', 'MC', 'ID', 'JP', 'TH', 'VN', 'RO', 'IL', 'ZA', 'SA', 'AE', 'BH', 'QA', 'OM', 'KW', 'EG', 'MA', 'DZ', 'TN', 'LB', 'JO', 'PS', 'IN', 'BY', 'KZ', 'MD', 'UA', 'AL', 'BA', 'HR', 'ME', 'MK', 'RS', 'SI', 'KR', 'BD', 'PK', 'LK', 'GH', 'KE', 'NG', 'TZ', 'UG', 'AG', 'AM', 'BS', 'BB', 'BZ', 'BT', 'BW', 'BF', 'CV', 'CW', 'DM', 'FJ', 'GM', 'GE', 'GD', 'GW', 'GY', 'HT', 'JM', 'KI', 'LS', 'LR', 'MW', 'MV', 'ML', 'MH', 'FM', 'NA', 'NR', 'NE', 'PW', 'PG', 'WS', 'SM', 'ST', 'SN', 'SC', 'SL', 'SB', 'KN', 'LC', 'VC', 'SR', 'TL', 'TO', 'TT', 'TV', 'VU', 'AZ', 'BN', 'BI', 'KH', 'CM', 'TD', 'KM', 'GQ', 'SZ', 'GA', 'GN', 'KG', 'LA', 'MO', 'MR', 'MN', 'NP', 'RW', 'TG', 'UZ', 'ZW', 'BJ', 'MG', 'MU', 'MZ', 'AO', 'CI', 'DJ', 'ZM', 'CD', 'CG', 'IQ', 'LY', 'TJ', 'VE', 'ET', 'XK'], 'disc_number': 1, 'duration_ms': 182307, 'explicit': False, 'external_ids': {'isrc': 'CNA791900676'}, 'external_urls': {'spotify': 'https://open.spotify.com/track/5WNwfAXkEE9FXpvdq7PSDs'}, 'href': 'https://api.spotify.com/v1/tracks/5WNwfAXkEE9FXpvdq7PSDs', 'id': '5WNwfAXkEE9FXpvdq7PSDs', 'is_local': False, 'name': 'Lonely', 'popularity': 50, 'preview_url': 'https://p.scdn.co/mp3-preview/aab47d442c8110fe5c5e1844d42653ab7b0e1a27?cid=95b6078c108c4d188b53695335665c54', 'track_number': 7, 'type': 'track', 'uri': 'spotify:track:5WNwfAXkEE9FXpvdq7PSDs'}, {'album': {'album_type': 'single', 'artists': [{'external_urls': {'spotify': 'https://open.spotify.com/artist/3gIRvgZssIb9aiirIg0nI3'}, 'href': 'https://api.spotify.com/v1/artists/3gIRvgZssIb9aiirIg0nI3', 'id': '3gIRvgZssIb9aiirIg0nI3', 'name': 'Jeremy Zucker', 'type': 'artist', 'uri': 'spotify:artist:3gIRvgZssIb9aiirIg0nI3'}, {'external_urls': {'spotify': 'https://open.spotify.com/artist/5JMLG56F1X5mFmWNmS0iAp'}, 'href': 'https://api.spotify.com/v1/artists/5JMLG56F1X5mFmWNmS0iAp', 'id': '5JMLG56F1X5mFmWNmS0iAp', 'name': 'Chelsea Cutler', 'type': 'artist', 'uri': 'spotify:artist:5JMLG56F1X5mFmWNmS0iAp'}], 'available_markets': ['AR', 'AU', 'AT', 'BE', 'BO', 'BR', 'BG', 'CA', 'CL', 'CO', 'CR', 'CY', 'CZ', 'DK', 'DO', 'DE', 'EC', 'EE', 'SV', 'FI', 'FR', 'GR', 'GT', 'HN', 'HK', 'HU', 'IS', 'IE', 'IT', 'LV', 'LT', 'LU', 'MY', 'MT', 'MX', 'NL', 'NZ', 'NI', 'NO', 'PA', 'PY', 'PE', 'PH', 'PL', 'PT', 'SG', 'SK', 'ES', 'SE', 'CH', 'TW', 'TR', 'UY', 'US', 'GB', 'AD', 'LI', 'MC', 'ID', 'JP', 'TH', 'VN', 'RO', 'IL', 'ZA', 'SA', 'AE', 'BH', 'QA', 'OM', 'KW', 'EG', 'MA', 'DZ', 'TN', 'LB', 'JO', 'PS', 'IN', 'BY', 'KZ', 'MD', 'UA', 'AL', 'BA', 'HR', 'ME', 'MK', 'RS', 'SI', 'KR', 'BD', 'PK', 'LK', 'GH', 'KE', 'NG', 'TZ', 'UG', 'AG', 'AM', 'BS', 'BB', 'BZ', 'BT', 'BW', 'BF', 'CV', 'CW', 'DM', 'FJ', 'GM', 'GE', 'GD', 'GW', 'GY', 'HT', 'JM', 'KI', 'LS', 'LR', 'MW', 'MV', 'ML', 'MH', 'FM', 'NA', 'NR', 'NE', 'PW', 'PG', 'WS', 'SM', 'ST', 'SN', 'SC', 'SL', 'SB', 'KN', 'LC', 'VC', 'SR', 'TL', 'TO', 'TT', 'TV', 'VU', 'AZ', 'BN', 'BI', 'KH', 'CM', 'TD', 'KM', 'GQ', 'SZ', 'GA', 'GN', 'KG', 'LA', 'MO', 'MR', 'MN', 'NP', 'RW', 'TG', 'UZ', 'ZW', 'BJ', 'MG', 'MU', 'MZ', 'AO', 'CI', 'DJ', 'ZM', 'CD', 'CG', 'IQ', 'LY', 'TJ', 'VE', 'ET', 'XK'], 'external_urls': {'spotify': 'https://open.spotify.com/album/0A9eIFTz09ciHqCHJNYyf2'}, 'href': 'https://api.spotify.com/v1/albums/0A9eIFTz09ciHqCHJNYyf2', 'id': '0A9eIFTz09ciHqCHJNYyf2', 'images': [{'height': 640, 'url': 'https://i.scdn.co/image/ab67616d0000b273bdcc1b27dac22bfb3a57c2de', 'width': 640}, {'height': 300, 'url': 'https://i.scdn.co/image/ab67616d00001e02bdcc1b27dac22bfb3a57c2de', 'width': 300}, {'height': 64, 'url': 'https://i.scdn.co/image/ab67616d00004851bdcc1b27dac22bfb3a57c2de', 'width': 64}], 'name': 'brent ii', 'release_date': '2021-02-05', 'release_date_precision': 'day', 'total_tracks': 5, 'type': 'album', 'uri': 'spotify:album:0A9eIFTz09ciHqCHJNYyf2'}, 'artists': [{'external_urls': {'spotify': 'https://open.spotify.com/artist/3gIRvgZssIb9aiirIg0nI3'}, 'href': 'https://api.spotify.com/v1/artists/3gIRvgZssIb9aiirIg0nI3', 'id': '3gIRvgZssIb9aiirIg0nI3', 'name': 'Jeremy Zucker', 'type': 'artist', 'uri': 'spotify:artist:3gIRvgZssIb9aiirIg0nI3'}, {'external_urls': {'spotify': 'https://open.spotify.com/artist/5JMLG56F1X5mFmWNmS0iAp'}, 'href': 'https://api.spotify.com/v1/artists/5JMLG56F1X5mFmWNmS0iAp', 'id': '5JMLG56F1X5mFmWNmS0iAp', 'name': 'Chelsea Cutler', 'type': 'artist', 'uri': 'spotify:artist:5JMLG56F1X5mFmWNmS0iAp'}], 'available_markets': ['AR', 'AU', 'AT', 'BE', 'BO', 'BR', 'BG', 'CA', 'CL', 'CO', 'CR', 'CY', 'CZ', 'DK', 'DO', 'DE', 'EC', 'EE', 'SV', 'FI', 'FR', 'GR', 'GT', 'HN', 'HK', 'HU', 'IS', 'IE', 'IT', 'LV', 'LT', 'LU', 'MY', 'MT', 'MX', 'NL', 'NZ', 'NI', 'NO', 'PA', 'PY', 'PE', 'PH', 'PL', 'PT', 'SG', 'SK', 'ES', 'SE', 'CH', 'TW', 'TR', 'UY', 'US', 'GB', 'AD', 'LI', 'MC', 'ID', 'JP', 'TH', 'VN', 'RO', 'IL', 'ZA', 'SA', 'AE', 'BH', 'QA', 'OM', 'KW', 'EG', 'MA', 'DZ', 'TN', 'LB', 'JO', 'PS', 'IN', 'BY', 'KZ', 'MD', 'UA', 'AL', 'BA', 'HR', 'ME', 'MK', 'RS', 'SI', 'KR', 'BD', 'PK', 'LK', 'GH', 'KE', 'NG', 'TZ', 'UG', 'AG', 'AM', 'BS', 'BB', 'BZ', 'BT', 'BW', 'BF', 'CV', 'CW', 'DM', 'FJ', 'GM', 'GE', 'GD', 'GW', 'GY', 'HT', 'JM', 'KI', 'LS', 'LR', 'MW', 'MV', 'ML', 'MH', 'FM', 'NA', 'NR', 'NE', 'PW', 'PG', 'WS', 'SM', 'ST', 'SN', 'SC', 'SL', 'SB', 'KN', 'LC', 'VC', 'SR', 'TL', 'TO', 'TT', 'TV', 'VU', 'AZ', 'BN', 'BI', 'KH', 'CM', 'TD', 'KM', 'GQ', 'SZ', 'GA', 'GN', 'KG', 'LA', 'MO', 'MR', 'MN', 'NP', 'RW', 'TG', 'UZ', 'ZW', 'BJ', 'MG', 'MU', 'MZ', 'AO', 'CI', 'DJ', 'ZM', 'CD', 'CG', 'IQ', 'LY', 'TJ', 'VE', 'ET', 'XK'], 'disc_number': 1, 'duration_ms': 174586, 'explicit': False, 'external_ids': {'isrc': 'USUM72024519'}, 'external_urls': {'spotify': 'https://open.spotify.com/track/1aEsTgCsv8nOjEgyEoRCpS'}, 'href': 'https://api.spotify.com/v1/tracks/1aEsTgCsv8nOjEgyEoRCpS', 'id': '1aEsTgCsv8nOjEgyEoRCpS', 'is_local': False, 'name': 'this is how you fall in love', 'popularity': 74, 'preview_url': None, 'track_number': 1, 'type': 'track', 'uri': 'spotify:track:1aEsTgCsv8nOjEgyEoRCpS'}, {'album': {'album_type': 'album', 'artists': [{'external_urls': {'spotify': 'https://open.spotify.com/artist/3gIRvgZssIb9aiirIg0nI3'}, 'href': 'https://api.spotify.com/v1/artists/3gIRvgZssIb9aiirIg0nI3', 'id': '3gIRvgZssIb9aiirIg0nI3', 'name': 'Jeremy Zucker', 'type': 'artist', 'uri': 'spotify:artist:3gIRvgZssIb9aiirIg0nI3'}], 'available_markets': ['AR', 'AU', 'AT', 'BE', 'BO', 'BR', 'BG', 'CA', 'CL', 'CO', 'CR', 'CY', 'CZ', 'DK', 'DO', 'DE', 'EC', 'EE', 'SV', 'FI', 'FR', 'GR', 'GT', 'HN', 'HK', 'HU', 'IS', 'IE', 'IT', 'LV', 'LT', 'LU', 'MY', 'MT', 'MX', 'NL', 'NZ', 'NI', 'NO', 'PA', 'PY', 'PE', 'PH', 'PL', 'PT', 'SG', 'SK', 'ES', 'SE', 'CH', 'TW', 'TR', 'UY', 'US', 'GB', 'AD', 'LI', 'MC', 'ID', 'JP', 'TH', 'VN', 'RO', 'IL', 'ZA', 'SA', 'AE', 'BH', 'QA', 'OM', 'KW', 'EG', 'MA', 'DZ', 'TN', 'LB', 'JO', 'PS', 'IN', 'BY', 'KZ', 'MD', 'UA', 'AL', 'BA', 'HR', 'ME', 'MK', 'RS', 'SI', 'KR', 'BD', 'PK', 'LK', 'GH', 'KE', 'NG', 'TZ', 'UG', 'AG', 'AM', 'BS', 'BB', 'BZ', 'BT', 'BW', 'BF', 'CV', 'CW', 'DM', 'FJ', 'GM', 'GE', 'GD', 'GW', 'GY', 'HT', 'JM', 'KI', 'LS', 'LR', 'MW', 'MV', 'ML', 'MH', 'FM', 'NA', 'NR', 'NE', 'PW', 'PG', 'WS', 'SM', 'ST', 'SN', 'SC', 'SL', 'SB', 'KN', 'LC', 'VC', 'SR', 'TL', 'TO', 'TT', 'TV', 'VU', 'AZ', 'BN', 'BI', 'KH', 'CM', 'TD', 'KM', 'GQ', 'SZ', 'GA', 'GN', 'KG', 'LA', 'MO', 'MR', 'MN', 'NP', 'RW', 'TG', 'UZ', 'ZW', 'BJ', 'MG', 'MU', 'MZ', 'AO', 'CI', 'DJ', 'ZM', 'CD', 'CG', 'IQ', 'LY', 'TJ', 'VE', 'ET', 'XK'], 'external_urls': {'spotify': 'https://open.spotify.com/album/5mkf4N44kdEwYgaOk3hRLF'}, 'href': 'https://api.spotify.com/v1/albums/5mkf4N44kdEwYgaOk3hRLF', 'id': '5mkf4N44kdEwYgaOk3hRLF', 'images': [{'height': 640, 'url': 'https://i.scdn.co/image/ab67616d0000b27379607801145a93a55ae17e70', 'width': 640}, {'height': 300, 'url': 'https://i.scdn.co/image/ab67616d00001e0279607801145a93a55ae17e70', 'width': 300}, {'height': 64, 'url': 'https://i.scdn.co/image/ab67616d0000485179607801145a93a55ae17e70', 'width': 64}], 'name': 'love is not dying', 'release_date': '2020-04-17', 'release_date_precision': 'day', 'total_tracks': 13, 'type': 'album', 'uri': 'spotify:album:5mkf4N44kdEwYgaOk3hRLF'}, 'artists': [{'external_urls': {'spotify': 'https://open.spotify.com/artist/3gIRvgZssIb9aiirIg0nI3'}, 'href': 'https://api.spotify.com/v1/artists/3gIRvgZssIb9aiirIg0nI3', 'id': '3gIRvgZssIb9aiirIg0nI3', 'name': 'Jeremy Zucker', 'type': 'artist', 'uri': 'spotify:artist:3gIRvgZssIb9aiirIg0nI3'}], 'available_markets': ['AR', 'AU', 'AT', 'BE', 'BO', 'BR', 'BG', 'CA', 'CL', 'CO', 'CR', 'CY', 'CZ', 'DK', 'DO', 'DE', 'EC', 'EE', 'SV', 'FI', 'FR', 'GR', 'GT', 'HN', 'HK', 'HU', 'IS', 'IE', 'IT', 'LV', 'LT', 'LU', 'MY', 'MT', 'MX', 'NL', 'NZ', 'NI', 'NO', 'PA', 'PY', 'PE', 'PH', 'PL', 'PT', 'SG', 'SK', 'ES', 'SE', 'CH', 'TW', 'TR', 'UY', 'US', 'GB', 'AD', 'LI', 'MC', 'ID', 'JP', 'TH', 'VN', 'RO', 'IL', 'ZA', 'SA', 'AE', 'BH', 'QA', 'OM', 'KW', 'EG', 'MA', 'DZ', 'TN', 'LB', 'JO', 'PS', 'IN', 'BY', 'KZ', 'MD', 'UA', 'AL', 'BA', 'HR', 'ME', 'MK', 'RS', 'SI', 'KR', 'BD', 'PK', 'LK', 'GH', 'KE', 'NG', 'TZ', 'UG', 'AG', 'AM', 'BS', 'BB', 'BZ', 'BT', 'BW', 'BF', 'CV', 'CW', 'DM', 'FJ', 'GM', 'GE', 'GD', 'GW', 'GY', 'HT', 'JM', 'KI', 'LS', 'LR', 'MW', 'MV', 'ML', 'MH', 'FM', 'NA', 'NR', 'NE', 'PW', 'PG', 'WS', 'SM', 'ST', 'SN', 'SC', 'SL', 'SB', 'KN', 'LC', 'VC', 'SR', 'TL', 'TO', 'TT', 'TV', 'VU', 'AZ', 'BN', 'BI', 'KH', 'CM', 'TD', 'KM', 'GQ', 'SZ', 'GA', 'GN', 'KG', 'LA', 'MO', 'MR', 'MN', 'NP', 'RW', 'TG', 'UZ', 'ZW', 'BJ', 'MG', 'MU', 'MZ', 'AO', 'CI', 'DJ', 'ZM', 'CD', 'CG', 'IQ', 'LY', 'TJ', 'VE', 'ET', 'XK'], 'disc_number': 1, 'duration_ms': 146160, 'explicit': False, 'external_ids': {'isrc': 'USUM72001551'}, 'external_urls': {'spotify': 'https://open.spotify.com/track/0rbKrBvZUYY9GN9l057BuY'}, 'href': 'https://api.spotify.com/v1/tracks/0rbKrBvZUYY9GN9l057BuY', 'id': '0rbKrBvZUYY9GN9l057BuY', 'is_local': False, 'name': \"always, i'll care\", 'popularity': 72, 'preview_url': None, 'track_number': 11, 'type': 'track', 'uri': 'spotify:track:0rbKrBvZUYY9GN9l057BuY'}], 'limit': 15, 'next': 'https://api.spotify.com/v1/search?query=genre%3Aelectropop&type=track&offset=15&limit=15', 'offset': 0, 'previous': None, 'total': 1000}}\n"
     ]
    }
   ],
   "source": [
    "#moon_list for loop\n",
    "genre_results=[]\n",
    "for single_genre in genre:\n",
    "    results = sp.search(q=f'genre:{single_genre}', type='track', limit=15)\n",
    "    genre_results.append(results)\n",
    "print(genre_results[0])\n"
   ]
  },
  {
   "cell_type": "code",
   "execution_count": 243,
   "id": "77269809-2ef0-42f9-b718-4cb67599157d",
   "metadata": {},
   "outputs": [],
   "source": [
    "moon_tracks = genre_results[0]['tracks']['items'] + genre_results[1]['tracks']['items']+ genre_results[2]['tracks']['items']"
   ]
  },
  {
   "cell_type": "code",
   "execution_count": 244,
   "id": "f5d30a3b-aad7-4d2b-bb2f-d29a712eaeb7",
   "metadata": {},
   "outputs": [
    {
     "data": {
      "text/plain": [
       "'spotify:track:5WNwfAXkEE9FXpvdq7PSDs'"
      ]
     },
     "execution_count": 244,
     "metadata": {},
     "output_type": "execute_result"
    }
   ],
   "source": [
    "moon_tracks[12]['uri']"
   ]
  },
  {
   "cell_type": "code",
   "execution_count": 245,
   "id": "f8494ab8-f03c-451e-acc0-880b7f201fb8",
   "metadata": {},
   "outputs": [],
   "source": [
    "# URI = uniform resource identifier\n",
    "track_selection_list = []\n",
    "\n",
    "for song in moon_tracks:\n",
    "    track_selection_list.append(song['uri'])\n"
   ]
  },
  {
   "cell_type": "code",
   "execution_count": 246,
   "id": "67407e38-1818-4927-9c5f-40d80caa95b3",
   "metadata": {},
   "outputs": [
    {
     "data": {
      "text/plain": [
       "45"
      ]
     },
     "execution_count": 246,
     "metadata": {},
     "output_type": "execute_result"
    }
   ],
   "source": [
    "len(track_selection_list)"
   ]
  },
  {
   "cell_type": "code",
   "execution_count": 247,
   "id": "29a2184f-8612-4a39-84e3-6a78ca2786ef",
   "metadata": {},
   "outputs": [
    {
     "name": "stdout",
     "output_type": "stream",
     "text": [
      "{'collaborative': False, 'description': 'welcome to the dance fever', 'external_urls': {'spotify': 'https://open.spotify.com/playlist/5KdlKNmdvyRlGoygOYDtCN'}, 'followers': {'href': None, 'total': 0}, 'href': 'https://api.spotify.com/v1/playlists/5KdlKNmdvyRlGoygOYDtCN', 'id': '5KdlKNmdvyRlGoygOYDtCN', 'images': [], 'name': 'Dance under the moon', 'owner': {'display_name': 'kyndro', 'external_urls': {'spotify': 'https://open.spotify.com/user/zu91nihm12fol1t0p9510hpa0'}, 'href': 'https://api.spotify.com/v1/users/zu91nihm12fol1t0p9510hpa0', 'id': 'zu91nihm12fol1t0p9510hpa0', 'type': 'user', 'uri': 'spotify:user:zu91nihm12fol1t0p9510hpa0'}, 'primary_color': None, 'public': True, 'snapshot_id': 'MSw4YzBjOGQxZWVkYjdlZGE4NzhjNDM5YmZiZDRkYzkxNDkyYWViNjEw', 'tracks': {'href': 'https://api.spotify.com/v1/playlists/5KdlKNmdvyRlGoygOYDtCN/tracks', 'items': [], 'limit': 100, 'next': None, 'offset': 0, 'previous': None, 'total': 0}, 'type': 'playlist', 'uri': 'spotify:playlist:5KdlKNmdvyRlGoygOYDtCN'}\n"
     ]
    }
   ],
   "source": [
    "#MAKE A PLAYLIST!!!!!!!!!!AUHHHHHHH\n",
    "#Make an empty playist\n",
    "my_playlist = sp.user_playlist_create(user=username, name=\"Dance under the moon\", public=True,\n",
    "                                      description=\"welcome to the dance fever\")\n",
    "print(my_playlist)\n"
   ]
  },
  {
   "cell_type": "code",
   "execution_count": 248,
   "id": "6b647ee4-c567-4ee1-8198-4b6c28cf65ed",
   "metadata": {},
   "outputs": [
    {
     "name": "stdout",
     "output_type": "stream",
     "text": [
      "{'snapshot_id': 'MyxmODRlMGVjNWE5ODU0MjBlNjk4ZGU1M2ExNmY3NDU2YjNkN2I4MDU0'}\n"
     ]
    }
   ],
   "source": [
    "#add songs into the playist\n",
    "results = sp.user_playlist_add_tracks(username, my_playlist['id'], track_selection_list)\n",
    "print(results)"
   ]
  },
  {
   "cell_type": "code",
   "execution_count": 250,
   "id": "0b05d362-e92f-4090-aee4-c5444e2f4991",
   "metadata": {},
   "outputs": [
    {
     "data": {
      "text/plain": [
       "True"
      ]
     },
     "execution_count": 250,
     "metadata": {},
     "output_type": "execute_result"
    }
   ],
   "source": [
    "# sp.start_playback(deviceID, None, track_selection_list)\n",
    "#open playist\n",
    "webbrowser.open(my_playlist['external_urls']['spotify'])"
   ]
  },
  {
   "cell_type": "code",
   "execution_count": null,
   "id": "72bbf442-334e-4ec2-b402-f094c3ecc73e",
   "metadata": {},
   "outputs": [],
   "source": []
  },
  {
   "cell_type": "code",
   "execution_count": null,
   "id": "1adb2498-b7d2-4427-9101-53c5416811c7",
   "metadata": {},
   "outputs": [],
   "source": []
  }
 ],
 "metadata": {
  "kernelspec": {
   "display_name": "Python 3 (ipykernel)",
   "language": "python",
   "name": "python3"
  },
  "language_info": {
   "codemirror_mode": {
    "name": "ipython",
    "version": 3
   },
   "file_extension": ".py",
   "mimetype": "text/x-python",
   "name": "python",
   "nbconvert_exporter": "python",
   "pygments_lexer": "ipython3",
   "version": "3.12.0"
  }
 },
 "nbformat": 4,
 "nbformat_minor": 5
}
