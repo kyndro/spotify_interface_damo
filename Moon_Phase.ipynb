{
 "cells": [
  {
   "cell_type": "code",
   "execution_count": 2,
   "id": "9ae9850d-cfe3-4abf-baf3-2f3d1e0a56df",
   "metadata": {},
   "outputs": [],
   "source": [
    "import spotipy\n",
    "import urllib.request\n",
    "import random\n",
    "import requests\n",
    "import nltk\n",
    "import webbrowser\n",
    "import json\n",
    "from nltk import pos_tag\n",
    "import spotipy.util as util\n",
    "import http.client"
   ]
  },
  {
   "cell_type": "code",
   "execution_count": 12,
   "id": "2db4e508-f8d1-451e-88d8-b0109dd018c6",
   "metadata": {},
   "outputs": [
    {
     "name": "stdout",
     "output_type": "stream",
     "text": [
      "New Moon\n"
     ]
    }
   ],
   "source": [
    "#moonphase\n",
    "import requests\n",
    "\n",
    "def get_moon_phase(year, month, day):\n",
    "    url = f'https://aa.usno.navy.mil/api/moon/phases/date?date={year:04d}-{month:02d}-{day:02d}'\n",
    "   # print(url)\n",
    "    # Make the request\n",
    "    response = requests.get(url)\n",
    "    \n",
    "    # Parse the JSON response\n",
    "    data = response.json()\n",
    "    \n",
    "    # Extract moon phase information from the response\n",
    "    moon_phase = data['phasedata'][0]['phase']\n",
    "\n",
    "    return moon_phase\n",
    "\n",
    "# Example usage\n",
    "year = 2023\n",
    "month = 11\n",
    "day = 10\n",
    "\n",
    "moon_phase = get_moon_phase(year, month, day)\n",
    "#if moon_phase=='Last Quarter':\n",
    "    #energy=0.25\n",
    "#elif moon_phase=='Full':\n",
    "    #energy=1\n",
    "#else:\n",
    "    #energy=0\n",
    "#print(f'Moon phase on {year}-{month:02d}-{day:02d}: {moon_phase}')\n",
    "print(moon_phase)"
   ]
  },
  {
   "cell_type": "code",
   "execution_count": 7,
   "id": "3ac777b0-be66-4120-b075-05f342f5714c",
   "metadata": {},
   "outputs": [],
   "source": [
    "moon_phase = 'Last Quarter'\n",
    "\n",
    "if moon_phase == 'Last Quarter':\n",
    "    high_genre = [\"electropop\", \"modern rock\"]\n",
    "    medium_genre = None  \n",
    "    low_genre = None \n",
    "elif moon_phase == 'Full moon':\n",
    "    high_genre = None \n",
    "    medium_genre = [\"art pop\"]\n",
    "    low_genre = None \n",
    "else:\n",
    "    high_genre = None \n",
    "    medium_genre = None  \n",
    "    low_genre = [\"taiwan indie\", \"korean indie rock\", \"soundtrack\"]\n",
    "\n"
   ]
  },
  {
   "cell_type": "code",
   "execution_count": 14,
   "id": "d4eae861-010c-4cb4-b853-fe81dee7210c",
   "metadata": {},
   "outputs": [
    {
     "ename": "NameError",
     "evalue": "name 'sp' is not defined",
     "output_type": "error",
     "traceback": [
      "\u001b[1;31m---------------------------------------------------------------------------\u001b[0m",
      "\u001b[1;31mNameError\u001b[0m                                 Traceback (most recent call last)",
      "Cell \u001b[1;32mIn[14], line 5\u001b[0m\n\u001b[0;32m      1\u001b[0m \u001b[38;5;66;03m#使用spotipy 提取藝術家流派和歌曲發行日期\u001b[39;00m\n\u001b[0;32m      2\u001b[0m \n\u001b[0;32m      3\u001b[0m \u001b[38;5;66;03m# High Energy -modern rock\u001b[39;00m\n\u001b[0;32m      4\u001b[0m high_genre \u001b[38;5;241m=\u001b[39m [\u001b[38;5;124m\"\u001b[39m\u001b[38;5;124melectropop\u001b[39m\u001b[38;5;124m\"\u001b[39m, \u001b[38;5;124m\"\u001b[39m\u001b[38;5;124mmodern rock\u001b[39m\u001b[38;5;124m\"\u001b[39m]\n\u001b[1;32m----> 5\u001b[0m high_result \u001b[38;5;241m=\u001b[39m \u001b[43msp\u001b[49m\u001b[38;5;241m.\u001b[39msearch(q\u001b[38;5;241m=\u001b[39m\u001b[38;5;124mf\u001b[39m\u001b[38;5;124m'\u001b[39m\u001b[38;5;124mgenre:\u001b[39m\u001b[38;5;132;01m{\u001b[39;00mhigh_genre\u001b[38;5;132;01m}\u001b[39;00m\u001b[38;5;124m'\u001b[39m, \u001b[38;5;28mtype\u001b[39m \u001b[38;5;241m=\u001b[39m \u001b[38;5;124m'\u001b[39m\u001b[38;5;124mtrack\u001b[39m\u001b[38;5;124m'\u001b[39m, limit \u001b[38;5;241m=\u001b[39m\u001b[38;5;241m40\u001b[39m)\n\u001b[0;32m      7\u001b[0m \u001b[38;5;66;03m# Medium Energy - Art Pop\u001b[39;00m\n\u001b[0;32m      8\u001b[0m medium_genre \u001b[38;5;241m=\u001b[39m [\u001b[38;5;124m\"\u001b[39m\u001b[38;5;124mart pop\u001b[39m\u001b[38;5;124m\"\u001b[39m, \u001b[38;5;124m\"\u001b[39m\u001b[38;5;124msoundtrack\u001b[39m\u001b[38;5;124m\"\u001b[39m]\n",
      "\u001b[1;31mNameError\u001b[0m: name 'sp' is not defined"
     ]
    }
   ],
   "source": [
    "#使用spotipy 提取藝術家流派和歌曲發行日期\n",
    "\n",
    "# High Energy -modern rock\n",
    "high_genre = [\"electropop\", \"modern rock\"]\n",
    "high_result = sp.search(q=f'genre:{high_genre}', type = 'track', limit =40)\n",
    "\n",
    "# Medium Energy - Art Pop\n",
    "medium_genre = [\"art pop\", \"soundtrack\"]\n",
    "medium_result = sp.search(q=f'genre:{medium_genre}', type = 'track', limit =40)\n",
    "\n",
    "# Low Energy -  folk\n",
    "low_genre =  [\"taiwan indie\",\"korean indie rock\"]\n",
    "low_result = sp.search(q=f'genre:{low_genre}', type = 'track', limit =40)"
   ]
  },
  {
   "cell_type": "code",
   "execution_count": null,
   "id": "86e53d7b-8aaa-4fd5-aedf-f5ab0842743a",
   "metadata": {},
   "outputs": [],
   "source": []
  },
  {
   "cell_type": "code",
   "execution_count": null,
   "id": "24a7bb1b-2653-4ce4-8f2e-944b04d07350",
   "metadata": {},
   "outputs": [],
   "source": []
  },
  {
   "cell_type": "code",
   "execution_count": null,
   "id": "19449a01-4a1e-4f75-8c3a-eff9ae0f920e",
   "metadata": {},
   "outputs": [],
   "source": []
  }
 ],
 "metadata": {
  "kernelspec": {
   "display_name": "Python 3 (ipykernel)",
   "language": "python",
   "name": "python3"
  },
  "language_info": {
   "codemirror_mode": {
    "name": "ipython",
    "version": 3
   },
   "file_extension": ".py",
   "mimetype": "text/x-python",
   "name": "python",
   "nbconvert_exporter": "python",
   "pygments_lexer": "ipython3",
   "version": "3.12.0"
  }
 },
 "nbformat": 4,
 "nbformat_minor": 5
}
